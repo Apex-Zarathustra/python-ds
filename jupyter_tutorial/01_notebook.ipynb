{
 "cells": [
  {
   "cell_type": "markdown",
   "metadata": {},
   "source": [
    "# Основы работы с блокнотом Jupyter Notebook"
   ]
  },
  {
   "cell_type": "markdown",
   "metadata": {},
   "source": [
    "[К оглавлению](00_contents.ipynb)"
   ]
  },
  {
   "cell_type": "markdown",
   "metadata": {},
   "source": [
    "## Структура блокнота и основные операции"
   ]
  },
  {
   "cell_type": "markdown",
   "metadata": {},
   "source": [
    "### Ячейка Markdown\n",
    "\n",
    "**Markdown** - простой язык для оформления документов. Ячейки этого типа используются для пояснения методики расчетов. \n",
    "Помимо обычного текста, ячейка может содержать:\n"
   ]
  },
  {
   "cell_type": "markdown",
   "metadata": {},
   "source": [
    "- списки:\n",
    "\n",
    " 1. первый\n",
    " 1. второй\n",
    " 1. третий\n"
   ]
  },
  {
   "cell_type": "markdown",
   "metadata": {},
   "source": [
    "\n",
    "\n",
    "- таблицы:\n",
    "\n",
    "Заголовок 1  | Заголовок 2\n",
    ":------------|:------------\n",
    " Ячейка 1    | Ячейка 2   \n",
    " Ячейка 3    | Ячейка 4        \n"
   ]
  },
  {
   "cell_type": "markdown",
   "metadata": {},
   "source": [
    "\n",
    "- математические формулы: $ (x-a)^2 + (y-b)^2 = R^2 $,\n"
   ]
  },
  {
   "cell_type": "markdown",
   "metadata": {},
   "source": [
    "- [гиперссылки](http://yandex.ru),"
   ]
  },
  {
   "cell_type": "markdown",
   "metadata": {},
   "source": [
    "- изображения: \n",
    "![Jupyter Notebook](https://upload.wikimedia.org/wikipedia/commons/thumb/3/38/Jupyter_logo.svg/200px-Jupyter_logo.svg.png \"Логотип Jupyter\") \n"
   ]
  },
  {
   "cell_type": "markdown",
   "metadata": {},
   "source": [
    "- другие объекты, которые можно разместить на веб-странице (с помощью HTML-тегов).\n"
   ]
  },
  {
   "cell_type": "markdown",
   "metadata": {},
   "source": [
    "### Ячейка кода\n",
    "\n",
    "В ячейках кода необходимо писать команды в соответствии с правилами Python. Эти команды при вычислении ячейки интерпретируются и выполняются. Результат выводится сразу после ячейки. \n",
    "\n",
    "При вычислении ячейки с кодом она получает последовательный номер ввода - `In[?]`. А результат вычисления ячейки - номер вывода - `Out[?]`:"
   ]
  },
  {
   "cell_type": "code",
   "execution_count": null,
   "metadata": {},
   "outputs": [],
   "source": [
    "2 * 2"
   ]
  },
  {
   "cell_type": "markdown",
   "metadata": {},
   "source": [
    "### Режимы работы\n",
    "\n",
    "- режим выполнения (command mode) [Esc]\n",
    "- режим редактирования ячейки (edit mode) [Enter]"
   ]
  },
  {
   "cell_type": "markdown",
   "metadata": {},
   "source": [
    "### Выполнение кода в ячейках\n",
    "\n",
    "- `Shift-Enter` - выполнить и перейти к следующей\n",
    "- `Ctrl-Enter` - выполнить без перехода к следующей ячейке\n",
    "- `Alt-Enter` - выполнить и добавить новую  ячейку ниже"
   ]
  },
  {
   "cell_type": "code",
   "execution_count": null,
   "metadata": {},
   "outputs": [],
   "source": [
    "print('Hello!') # Потренируйтесь на этой ячейке"
   ]
  },
  {
   "cell_type": "markdown",
   "metadata": {},
   "source": [
    "### Справка по клавишам\n",
    "\n",
    "Для часто выполняемых действий назначены \"горячие\" клавиши. \n",
    "\n",
    "См. Help/Keyboard Shortcuts"
   ]
  },
  {
   "cell_type": "markdown",
   "metadata": {},
   "source": [
    "### Операции с блокнотом\n",
    "\n",
    "- создание\n",
    "- переименование\n",
    "- сохранение\n",
    "- загрузка (.ipynb и .html)\n",
    "- открытие существующего блокнота\n",
    "- [nbviewer](http://nbviewer.jupyter.org)"
   ]
  }
 ],
 "metadata": {
  "hide_input": false,
  "kernelspec": {
   "display_name": "Python 3",
   "language": "python",
   "name": "python3"
  },
  "language_info": {
   "codemirror_mode": {
    "name": "ipython",
    "version": 3
   },
   "file_extension": ".py",
   "mimetype": "text/x-python",
   "name": "python",
   "nbconvert_exporter": "python",
   "pygments_lexer": "ipython3",
   "version": "3.8.3"
  },
  "latex_envs": {
   "bibliofile": "biblio.bib",
   "cite_by": "apalike",
   "current_citInitial": 1,
   "eqLabelWithNumbers": true,
   "eqNumInitial": 0
  },
  "toc": {
   "nav_menu": {},
   "number_sections": false,
   "sideBar": true,
   "skip_h1_title": false,
   "toc_cell": false,
   "toc_position": {},
   "toc_section_display": "block",
   "toc_window_display": false
  },
  "varInspector": {
   "cols": {
    "lenName": 16,
    "lenType": 16,
    "lenVar": 40
   },
   "kernels_config": {
    "python": {
     "delete_cmd_postfix": "",
     "delete_cmd_prefix": "del ",
     "library": "var_list.py",
     "varRefreshCmd": "print(var_dic_list())"
    },
    "r": {
     "delete_cmd_postfix": ") ",
     "delete_cmd_prefix": "rm(",
     "library": "var_list.r",
     "varRefreshCmd": "cat(var_dic_list()) "
    }
   },
   "types_to_exclude": [
    "module",
    "function",
    "builtin_function_or_method",
    "instance",
    "_Feature"
   ],
   "window_display": false
  }
 },
 "nbformat": 4,
 "nbformat_minor": 1
}
