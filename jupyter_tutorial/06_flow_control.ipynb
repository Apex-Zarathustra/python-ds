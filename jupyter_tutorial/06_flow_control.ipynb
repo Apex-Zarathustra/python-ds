{
 "cells": [
  {
   "cell_type": "markdown",
   "metadata": {},
   "source": [
    "# Управление потоком вычислений: условия, циклы, обработка списков"
   ]
  },
  {
   "cell_type": "markdown",
   "metadata": {},
   "source": [
    "[К оглавлению](00_contents.ipynb)"
   ]
  },
  {
   "cell_type": "markdown",
   "metadata": {},
   "source": [
    "В Python есть несколько операторов для реализации условного выполнения (ветвления) и циклов, которые имеются в других языках программирования."
   ]
  },
  {
   "cell_type": "markdown",
   "metadata": {},
   "source": [
    "## Условное выполнение - `if, elif, else`"
   ]
  },
  {
   "cell_type": "markdown",
   "metadata": {},
   "source": [
    "Оператор `if` вычисляет условие и, если получилось `True`, выполняет код в следующем далее блоке:\n",
    "\n",
    "![](pics/if.png)"
   ]
  },
  {
   "cell_type": "code",
   "execution_count": 139,
   "metadata": {},
   "outputs": [
    {
     "name": "stdout",
     "output_type": "stream",
     "text": [
      "Отрицательно\n"
     ]
    }
   ],
   "source": [
    "def f(x):\n",
    "    if x < 0:\n",
    "        print('Отрицательно')\n",
    "\n",
    "f(-1)\n",
    "f(1)"
   ]
  },
  {
   "cell_type": "markdown",
   "metadata": {},
   "source": [
    "Если условие ложно, то код просто не выполняется.\n",
    "\n",
    "Используя `elif` (иначе если...) можно проверить еще условия, а с помощью `else` (иначе) - задать действие, которое выполнится, если ни одно из условий не подошло."
   ]
  },
  {
   "cell_type": "code",
   "execution_count": 140,
   "metadata": {},
   "outputs": [
    {
     "name": "stdout",
     "output_type": "stream",
     "text": [
      "Отрицательно\n",
      "Ноль\n",
      "Положительно\n"
     ]
    }
   ],
   "source": [
    "def f(x):\n",
    "    if x < 0:\n",
    "        print('Отрицательно')\n",
    "    elif x == 0:\n",
    "        print('Ноль')\n",
    "    else:\n",
    "        print('Положительно')\n",
    "\n",
    "f(-1)\n",
    "f(0)\n",
    "f(1.1)"
   ]
  },
  {
   "cell_type": "markdown",
   "metadata": {},
   "source": [
    "Сложные условия можно записать, используя логические операции - `and, or, not`."
   ]
  },
  {
   "cell_type": "code",
   "execution_count": 141,
   "metadata": {},
   "outputs": [
    {
     "name": "stdout",
     "output_type": "stream",
     "text": [
      "Размеры не могут быть отрицательными\n",
      "Слишком большая площадь\n",
      "Слишком большая длина или ширина\n",
      "Площадь равна 50\n"
     ]
    }
   ],
   "source": [
    "def area(length, width):\n",
    "    if length < 0 or width < 0:\n",
    "        print('Размеры не могут быть отрицательными')\n",
    "    elif length * width > 50:\n",
    "        print('Слишком большая площадь')\n",
    "    elif length > 10 or width > 10:\n",
    "        print('Слишком большая длина или ширина')\n",
    "    else:\n",
    "        print(f'Площадь равна {length * width}')\n",
    "        \n",
    "area(-1, 1)\n",
    "area(10, 10)\n",
    "area(20, 1)\n",
    "area(10, 5)"
   ]
  },
  {
   "cell_type": "markdown",
   "metadata": {},
   "source": [
    "Можно также строить цепочки сравнений:"
   ]
  },
  {
   "cell_type": "code",
   "execution_count": 142,
   "metadata": {},
   "outputs": [
    {
     "data": {
      "text/plain": [
       "True"
      ]
     },
     "execution_count": 142,
     "metadata": {},
     "output_type": "execute_result"
    }
   ],
   "source": [
    "x = 4\n",
    "\n",
    "0 < x <= 5"
   ]
  },
  {
   "cell_type": "markdown",
   "metadata": {},
   "source": [
    "В задачах обработки данных очень полезна проверка значения на вхождение в некоторую коллекцию, например, список или кортеж. Эту проверку можно сделать с помощью ключевого слова `in`:"
   ]
  },
  {
   "cell_type": "code",
   "execution_count": 143,
   "metadata": {},
   "outputs": [
    {
     "name": "stdout",
     "output_type": "stream",
     "text": [
      "a - не цифра\n",
      "1 - цифра\n",
      "1 - не цифра\n"
     ]
    }
   ],
   "source": [
    "digits = ['0', '1', '2', '3', '4', '5', '6', '7', '8']\n",
    "\n",
    "def f(c):\n",
    "    if c in digits:\n",
    "        print(f'{c} - цифра')\n",
    "    else:\n",
    "        print(f'{c} - не цифра')\n",
    "        \n",
    "f('a')\n",
    "f('1')\n",
    "f(1)"
   ]
  },
  {
   "cell_type": "markdown",
   "metadata": {},
   "source": [
    "Для строк есть встроенные методы для проверки на тип символов:"
   ]
  },
  {
   "cell_type": "code",
   "execution_count": 144,
   "metadata": {},
   "outputs": [
    {
     "data": {
      "text/plain": [
       "True"
      ]
     },
     "execution_count": 144,
     "metadata": {},
     "output_type": "execute_result"
    }
   ],
   "source": [
    "'1'.isdigit()"
   ]
  },
  {
   "cell_type": "code",
   "execution_count": 145,
   "metadata": {},
   "outputs": [
    {
     "data": {
      "text/plain": [
       "False"
      ]
     },
     "execution_count": 145,
     "metadata": {},
     "output_type": "execute_result"
    }
   ],
   "source": [
    "'a'.isdigit()"
   ]
  },
  {
   "cell_type": "code",
   "execution_count": 146,
   "metadata": {},
   "outputs": [
    {
     "data": {
      "text/plain": [
       "True"
      ]
     },
     "execution_count": 146,
     "metadata": {},
     "output_type": "execute_result"
    }
   ],
   "source": [
    "'Ы'.isalpha()"
   ]
  },
  {
   "cell_type": "code",
   "execution_count": 147,
   "metadata": {},
   "outputs": [
    {
     "data": {
      "text/plain": [
       "True"
      ]
     },
     "execution_count": 147,
     "metadata": {},
     "output_type": "execute_result"
    }
   ],
   "source": [
    "'123'.isdigit()"
   ]
  },
  {
   "cell_type": "markdown",
   "metadata": {},
   "source": [
    "## Условная операция\n",
    "\n",
    "Иногда необходимо изменить, в зависимости от условия, не последовательность действий, а только формулу для расчета. Это можно сделать при помощи условной операции - аналога функции `ЕСЛИ()` в Excel. При выполнении этой операции также проверяется условие, и, в зависимости от результата проверки, вычисляется одно из двух заданных выражений.\n",
    "\n",
    "Синтаксис условной операции: `Выражение` if `Условие` else `Выражение2`\n",
    "\n",
    "В отличие от оператора `if`, условная операция не выполняет сама по себе каких-либо действий. Она лишь вычисляет значение по двум разным формулам.\n",
    "\n",
    "Еще одно название условной операции - *тернарное выражение* (т.е. выражение, включающее три элемента - условие и две альтернативных формулы, которые выбираются в зависимости от истинности условия)."
   ]
  },
  {
   "cell_type": "code",
   "execution_count": 148,
   "metadata": {},
   "outputs": [
    {
     "name": "stdout",
     "output_type": "stream",
     "text": [
      "Значение больше порога\n",
      "Значение не больше порога\n"
     ]
    }
   ],
   "source": [
    "def f(x, threshold):\n",
    "    print(f\"Значение {'больше' if x > threshold else 'не больше'} порога\")\n",
    "    \n",
    "f(10, 5)\n",
    "f(10, 20)\n"
   ]
  },
  {
   "cell_type": "markdown",
   "metadata": {},
   "source": [
    "### Задачи для тренировки:\n",
    "\n",
    "#### Распродажа\n",
    "\n",
    "В магазине проходит акция:\n",
    "* При любой покупке скидка 5%\n",
    "* При покупке на сумму от 1000 руб, но менее 5000 скидка 10%\n",
    "* При покупке на сумму свыше 5000 рублей скидка 20%\n",
    "\n",
    "Напишите функцию, которая принимает на вход сумму покупок в рублях и печатает величину скидки в % и в рублях.\n",
    "\n"
   ]
  },
  {
   "cell_type": "code",
   "execution_count": 149,
   "metadata": {},
   "outputs": [],
   "source": [
    "# Ваш код здесь"
   ]
  },
  {
   "cell_type": "markdown",
   "metadata": {},
   "source": [
    "#### Распродажа 2\n",
    "\n",
    "В магазине проходит акция: на товары из категорий \"молоко\" и \"колбаса\" скидка 10%, при покупке на сумму от 200 рублей. \n",
    "\n",
    "Напишите функцию, которая принимает на вход категорию купленного товара и сумму покупок и печатает величину скидки в % и в рублях.\n"
   ]
  },
  {
   "cell_type": "code",
   "execution_count": 150,
   "metadata": {},
   "outputs": [],
   "source": [
    "# Ваш код здесь"
   ]
  },
  {
   "cell_type": "markdown",
   "metadata": {},
   "source": [
    "## Цикл `while`\n",
    "\n",
    "Циклы позволяют повторить действие несколько раз. Если точное количество повторений неизвестно, и окончание повторений должно определяться некоторым условиям, то используется цикл `while`. По-другому он называется *циклом с условием*.\n",
    "\n",
    "![](pics/while.png)\n"
   ]
  },
  {
   "cell_type": "code",
   "execution_count": 151,
   "metadata": {},
   "outputs": [
    {
     "name": "stdout",
     "output_type": "stream",
     "text": [
      "1\n",
      "2\n"
     ]
    }
   ],
   "source": [
    "# Функция для нахождения наибольшего целого делителя числа (кроме него самого):\n",
    "def greatest_divisor(x):\n",
    "    divisor = x - 1 # число всегда без остатка делится само на себя, начинаем с предыдущего целого числа\n",
    "    while x % divisor != 0 and divisor > 1: # если есть остаток от деления и делитель еще можно уменьшить\n",
    "        divisor = divisor - 1\n",
    "                \n",
    "        \n",
    "    return divisor\n",
    "\n",
    "print(greatest_divisor(2))\n",
    "print(greatest_divisor(4))"
   ]
  },
  {
   "cell_type": "markdown",
   "metadata": {},
   "source": [
    "Надо тщательно продумывать условие для цикла, посколько возможна ситуация, когда цикл будет продолжаться бесконечно - программа \"зациклится\".\n",
    "\n",
    "Кроме ситуации, когда условие цикла `while` ложно, цикл можно прервать еще двумя способами:\n",
    "  - с помощью оператора `break` - при этом вычисления продолжатся с оператора, следующего сразу за циклом\n",
    "  - с помощью оператора `return` (когда цикл внутри функции) - при этом функция завершит работу.\n",
    "  \n",
    " Реализуем предыдущий пример с помощью этих двух способов:"
   ]
  },
  {
   "cell_type": "code",
   "execution_count": 152,
   "metadata": {},
   "outputs": [
    {
     "name": "stdout",
     "output_type": "stream",
     "text": [
      "1\n",
      "2\n"
     ]
    }
   ],
   "source": [
    "# Через break\n",
    "def greatest_divisor(x):\n",
    "    divisor = x - 1\n",
    "    while divisor > 1:\n",
    "        if x % divisor == 0:\n",
    "            break # выходим из цикла -> сразу к return\n",
    "        divisor = divisor - 1 # не выполняется, если остаток нулевой\n",
    "                \n",
    "        \n",
    "    return divisor\n",
    "\n",
    "print(greatest_divisor(2))\n",
    "print(greatest_divisor(4))\n"
   ]
  },
  {
   "cell_type": "code",
   "execution_count": 153,
   "metadata": {},
   "outputs": [
    {
     "name": "stdout",
     "output_type": "stream",
     "text": [
      "1\n",
      "2\n"
     ]
    }
   ],
   "source": [
    "# Через return\n",
    "def greatest_divisor(x):\n",
    "    divisor = x - 1\n",
    "    while divisor > 1:\n",
    "        if x % divisor == 0:\n",
    "            return divisor # возвращаем делитель, функция завершает работу\n",
    "        divisor = divisor - 1 # не выполняется, если остаток нулевой                \n",
    "        \n",
    "    return divisor\n",
    "\n",
    "print(greatest_divisor(2))\n",
    "print(greatest_divisor(4))\n"
   ]
  },
  {
   "cell_type": "markdown",
   "metadata": {},
   "source": [
    "С помощью оператора `continue` можно пропустить оставшиеся действия на текущей итерации цикла и перейти к следующей:"
   ]
  },
  {
   "cell_type": "code",
   "execution_count": 154,
   "metadata": {},
   "outputs": [
    {
     "name": "stdout",
     "output_type": "stream",
     "text": [
      "2\n",
      "4\n",
      "6\n",
      "8\n",
      "10\n"
     ]
    }
   ],
   "source": [
    "x = 0\n",
    "while x < 10:\n",
    "    x = x + 1\n",
    "    if x % 2 != 0: # если число нечетное - пропускаем его\n",
    "        continue\n",
    "    print(x)"
   ]
  },
  {
   "cell_type": "markdown",
   "metadata": {},
   "source": [
    "### Задачи для тренировки\n",
    "\n",
    "#### Вася-спортсмен\n",
    "\n",
    "Вася начал бегать. На первой тренировке он пробежал X километров и выдохся. Вася поставил себе цель Y километров и решил узнать, когда он ее достигнет, если каждую неделю будет увеличивать дистанцию на 10%.\n",
    "\n",
    "Напишите функцию которая принимает на вход два числа - X и Y и печатает план тренировок для Васи в формате: \n",
    "`Неделя, дистанция в км`\n",
    "\n",
    "Например, если изначально Вася смог пробежать 10 км, то полумарафон (21.0975 км) он пробежит на 9-й неделе:\n",
    "```\n",
    "Неделя 1: дистанция 10.0 км\n",
    "Неделя 2: дистанция 11.0 км\n",
    "Неделя 3: дистанция 12.1 км\n",
    "Неделя 4: дистанция 13.3 км\n",
    "Неделя 5: дистанция 14.6 км\n",
    "Неделя 6: дистанция 16.1 км\n",
    "Неделя 7: дистанция 17.7 км\n",
    "Неделя 8: дистанция 19.5 км\n",
    "Неделя 9: дистанция 21.4 км\n",
    "```"
   ]
  },
  {
   "cell_type": "code",
   "execution_count": 155,
   "metadata": {},
   "outputs": [],
   "source": [
    "#Ваш код здесь"
   ]
  },
  {
   "cell_type": "markdown",
   "metadata": {},
   "source": [
    "## Цикл `for`\n",
    "\n",
    "Цикл `for` в Python предназначен в первую очередь для обхода коллекции (например, списка или кортежа). \n",
    "\n",
    "![](pics/for.png)\n",
    "\n",
    "\n",
    "Цикл начинается с ключевого слова **for**, за которым следует произвольное имя переменной, которое будет хранить значения следующего объекта последовательности. Общий синтаксис **for...in** в python выглядит следующим образом:\n",
    "\n",
    "**for** <переменная> **in** <последовательность>:\n",
    "\n",
    "    <действие> \n",
    "      \n",
    "Элементы “последовательности” перебираются один за другим “переменной” цикла; если быть точным, переменная указывает на элементы. Для каждого элемента выполняется “действие”.\n",
    "\n",
    "С `for` можно использовать операторы `break`, `continue` и `return` точно так же, как и с `while`."
   ]
  },
  {
   "cell_type": "code",
   "execution_count": 156,
   "metadata": {},
   "outputs": [
    {
     "name": "stdout",
     "output_type": "stream",
     "text": [
      "1\n",
      "2\n",
      "Три\n"
     ]
    }
   ],
   "source": [
    "def f(collection):\n",
    "    for element in collection:\n",
    "        print(element)\n",
    "        \n",
    "f([1, 2, 'Три'])"
   ]
  },
  {
   "cell_type": "code",
   "execution_count": 157,
   "metadata": {},
   "outputs": [],
   "source": [
    "f([]) # пустой список"
   ]
  },
  {
   "cell_type": "markdown",
   "metadata": {},
   "source": [
    "Этот цикл также работает с похожими на коллекции объектами - *итераторами*. Итератор можно представить себе как некоторую последовательность, элементы которой мы можем перебрать один за другим, до тех пор, пока все эти элементы не закончатся. Например, мы можем работать с числовой последовательностью - `range`:"
   ]
  },
  {
   "cell_type": "code",
   "execution_count": 158,
   "metadata": {},
   "outputs": [
    {
     "name": "stdout",
     "output_type": "stream",
     "text": [
      "<class 'range'>\n",
      "range(0, 10)\n"
     ]
    }
   ],
   "source": [
    "r = range(10)\n",
    "print(type(r))\n",
    "print(r)"
   ]
  },
  {
   "cell_type": "markdown",
   "metadata": {},
   "source": [
    "Элементы последовательности не создаются все сразу, что экономит ресурсы, когда их много. Но их, тем не менее, можно последовательно перебрать, один за другим."
   ]
  },
  {
   "cell_type": "code",
   "execution_count": 159,
   "metadata": {},
   "outputs": [
    {
     "name": "stdout",
     "output_type": "stream",
     "text": [
      "0 в квадрате равно 0\n",
      "1 в квадрате равно 1\n",
      "2 в квадрате равно 4\n",
      "3 в квадрате равно 9\n",
      "4 в квадрате равно 16\n",
      "5 в квадрате равно 25\n",
      "6 в квадрате равно 36\n",
      "7 в квадрате равно 49\n",
      "8 в квадрате равно 64\n",
      "9 в квадрате равно 81\n"
     ]
    }
   ],
   "source": [
    "for r in range(10):\n",
    "    print(f'{r} в квадрате равно {r**2}')    "
   ]
  },
  {
   "cell_type": "markdown",
   "metadata": {},
   "source": [
    "Обратите внимание на характерное для Python поведение: нумерация начинается от нуля, а правая граница не включается."
   ]
  },
  {
   "cell_type": "markdown",
   "metadata": {},
   "source": [
    "Итерироваться можно не только по числовой последовательности, но и по строке:"
   ]
  },
  {
   "cell_type": "code",
   "execution_count": 160,
   "metadata": {},
   "outputs": [
    {
     "name": "stdout",
     "output_type": "stream",
     "text": [
      "ПППрррииивввеееттт"
     ]
    }
   ],
   "source": [
    "for c in \"Привет\":\n",
    "    print(c * 3, sep='', end='')"
   ]
  },
  {
   "cell_type": "markdown",
   "metadata": {},
   "source": [
    "### Задачи для тренировки\n",
    "\n",
    "#### Безопасная сумма\n",
    "\n",
    "В Python встроена функция `sum()`, которая может посчитать сумму элементов списка. Но она ломается, если в списке окажутся нечисловые значения. Напишите функцию `safesum()` - безопасная сумма, которая складывает только числовые элементы. При отсутствии в списке числовых элементов функция должна выдавать 0.\n",
    "\n",
    "Подсказка: вы можете проверить тип элемента списка с помощью функции `type()`:\n"
   ]
  },
  {
   "cell_type": "code",
   "execution_count": 161,
   "metadata": {},
   "outputs": [
    {
     "data": {
      "text/plain": [
       "int"
      ]
     },
     "execution_count": 161,
     "metadata": {},
     "output_type": "execute_result"
    }
   ],
   "source": [
    "type(5)"
   ]
  },
  {
   "cell_type": "code",
   "execution_count": 162,
   "metadata": {},
   "outputs": [
    {
     "data": {
      "text/plain": [
       "True"
      ]
     },
     "execution_count": 162,
     "metadata": {},
     "output_type": "execute_result"
    }
   ],
   "source": [
    "type(5.0)==float"
   ]
  },
  {
   "cell_type": "code",
   "execution_count": 163,
   "metadata": {},
   "outputs": [],
   "source": [
    "# Ваш код здесь"
   ]
  },
  {
   "cell_type": "markdown",
   "metadata": {},
   "source": [
    "#### Васин средний балл\n",
    "\n",
    "Используя написанную ранее функцию для подсчета суммы, напишите функцию для подсчета среднего балла Васи-студента. Результаты последней сессии хранятся в списке:"
   ]
  },
  {
   "cell_type": "code",
   "execution_count": 164,
   "metadata": {},
   "outputs": [],
   "source": [
    "grades = ['Математика', 8, \n",
    "          'Экономика', 7,\n",
    "          'Физкультура', 6]\n",
    "\n",
    "# Ваш код здесь"
   ]
  },
  {
   "cell_type": "markdown",
   "metadata": {},
   "source": [
    "### Итерация по вложенным коллекциям\n",
    "\n",
    "В Python очень часто возникает необходимость обработать в цикле элементы коллекции, которые сами по себе являются коллекциями. В этом случае можно указать после `for` сразу несколько переменных, в которые будут распакованы вложенные элементы.\n",
    "\n",
    "Например, пусть оценки студента хранятся в словаре `grades`:"
   ]
  },
  {
   "cell_type": "code",
   "execution_count": 165,
   "metadata": {},
   "outputs": [],
   "source": [
    "grades = {'Математика': 8, 'Экономика': 7, 'Физкультура' : 6}"
   ]
  },
  {
   "cell_type": "markdown",
   "metadata": {},
   "source": [
    "С помощью метода `items()` можно получить все элементы словаря в виде набора кортежей: `(ключ, значение)`:"
   ]
  },
  {
   "cell_type": "code",
   "execution_count": 166,
   "metadata": {},
   "outputs": [
    {
     "data": {
      "text/plain": [
       "dict_items([('Математика', 8), ('Экономика', 7), ('Физкультура', 6)])"
      ]
     },
     "execution_count": 166,
     "metadata": {},
     "output_type": "execute_result"
    }
   ],
   "source": [
    "grades.items()"
   ]
  },
  {
   "cell_type": "markdown",
   "metadata": {},
   "source": [
    "Мы можем обработать все эти элементы, используя цикл `for` с двумя переменными для удобного обращения к ключу и значению:"
   ]
  },
  {
   "cell_type": "code",
   "execution_count": 167,
   "metadata": {},
   "outputs": [
    {
     "name": "stdout",
     "output_type": "stream",
     "text": [
      "Оценка по дисциплине \"Математика\" - 8 баллов\n",
      "Оценка по дисциплине \"Экономика\" - 7 баллов\n",
      "Оценка по дисциплине \"Физкультура\" - 6 баллов\n"
     ]
    }
   ],
   "source": [
    "for discipline, grade in grades.items():\n",
    "    print(f'Оценка по дисциплине \"{discipline}\" - {grade} баллов')"
   ]
  },
  {
   "cell_type": "markdown",
   "metadata": {},
   "source": [
    "В данном случае можно было также просто выполнить итерацию по словарю - `for` будет перебирать ключи словаря:"
   ]
  },
  {
   "cell_type": "code",
   "execution_count": 168,
   "metadata": {},
   "outputs": [
    {
     "name": "stdout",
     "output_type": "stream",
     "text": [
      "Оценка по дисциплине \"Математика\" - 8 баллов\n",
      "Оценка по дисциплине \"Экономика\" - 7 баллов\n",
      "Оценка по дисциплине \"Физкультура\" - 6 баллов\n"
     ]
    }
   ],
   "source": [
    "for discipline in grades:\n",
    "    print(f'Оценка по дисциплине \"{discipline}\" - {grades[discipline]} баллов')"
   ]
  },
  {
   "cell_type": "markdown",
   "metadata": {},
   "source": [
    "При таком подходе пришлось извлечь из словаря значение по ключу, который содержится в переменной цикла: `grades[discipline]`"
   ]
  },
  {
   "cell_type": "markdown",
   "metadata": {},
   "source": [
    "Если бы список дисциплин хранился в двух отдельных списках, удобно было бы воспользоваться функцией `zip()`, которая 'состёгивает' два списка вместе, как две половинки молнии - получается список пар значений из обоих списков:"
   ]
  },
  {
   "cell_type": "code",
   "execution_count": 169,
   "metadata": {},
   "outputs": [
    {
     "data": {
      "text/plain": [
       "<zip at 0x2dbee42ccc0>"
      ]
     },
     "execution_count": 169,
     "metadata": {},
     "output_type": "execute_result"
    }
   ],
   "source": [
    "disciplines = ['Математика', 'Экономика', 'Физкультура']\n",
    "grades = [8, 7, 6]\n",
    "\n",
    "zip(disciplines, grades) # Получается итератор"
   ]
  },
  {
   "cell_type": "code",
   "execution_count": 170,
   "metadata": {},
   "outputs": [
    {
     "data": {
      "text/plain": [
       "[('Математика', 8), ('Экономика', 7), ('Физкультура', 6)]"
      ]
     },
     "execution_count": 170,
     "metadata": {},
     "output_type": "execute_result"
    }
   ],
   "source": [
    "list(zip(disciplines, grades)) # Пришлось \"материализовать\" итератор, превратив его в обычный список"
   ]
  },
  {
   "cell_type": "code",
   "execution_count": 171,
   "metadata": {},
   "outputs": [
    {
     "name": "stdout",
     "output_type": "stream",
     "text": [
      "Оценка по дисциплине \"Математика\" - 8 баллов\n",
      "Оценка по дисциплине \"Экономика\" - 7 баллов\n",
      "Оценка по дисциплине \"Физкультура\" - 6 баллов\n"
     ]
    }
   ],
   "source": [
    "for discipline, grade in zip(disciplines, grades):\n",
    "    print(f'Оценка по дисциплине \"{discipline}\" - {grade} баллов')"
   ]
  },
  {
   "cell_type": "markdown",
   "metadata": {},
   "source": [
    "Иногда необходимо в цикле иметь доступ не только к элементу коллекции, но и к его порядковому номеру. В этом случае помогает функция `enumerate()`:"
   ]
  },
  {
   "cell_type": "code",
   "execution_count": 172,
   "metadata": {},
   "outputs": [
    {
     "data": {
      "text/plain": [
       "<enumerate at 0x2dbee425f00>"
      ]
     },
     "execution_count": 172,
     "metadata": {},
     "output_type": "execute_result"
    }
   ],
   "source": [
    "enumerate(disciplines) # Получился итератор"
   ]
  },
  {
   "cell_type": "code",
   "execution_count": 173,
   "metadata": {},
   "outputs": [
    {
     "data": {
      "text/plain": [
       "[(0, 'Математика'), (1, 'Экономика'), (2, 'Физкультура')]"
      ]
     },
     "execution_count": 173,
     "metadata": {},
     "output_type": "execute_result"
    }
   ],
   "source": [
    "list(enumerate(disciplines))"
   ]
  },
  {
   "cell_type": "markdown",
   "metadata": {},
   "source": [
    "В цикле это можно использовать так:"
   ]
  },
  {
   "cell_type": "code",
   "execution_count": 174,
   "metadata": {},
   "outputs": [
    {
     "name": "stdout",
     "output_type": "stream",
     "text": [
      "Оценка по дисциплине \"Математика\" - 8 баллов\n",
      "Оценка по дисциплине \"Экономика\" - 7 баллов\n",
      "Оценка по дисциплине \"Физкультура\" - 6 баллов\n"
     ]
    }
   ],
   "source": [
    "for index, discipline in enumerate(disciplines):\n",
    "    print(f'Оценка по дисциплине \"{discipline}\" - {grades[index]} баллов')"
   ]
  },
  {
   "cell_type": "markdown",
   "metadata": {},
   "source": [
    "### Задачи для тренировки\n",
    "\n",
    "#### Посчитать средний балл\n",
    "\n",
    "Напишите функцию, которая принимает на вход словарь с оценками по дисциплинам и вычисляет средний балл по всем предметам (в виде числа)"
   ]
  },
  {
   "cell_type": "code",
   "execution_count": 175,
   "metadata": {},
   "outputs": [],
   "source": [
    "grades = {'Математика': 8, 'Экономика': 7, 'Физкультура' : 6}\n",
    "\n",
    "# Ваш код здесь"
   ]
  },
  {
   "cell_type": "markdown",
   "metadata": {},
   "source": [
    "#### Определить, есть ли хвосты\n",
    "\n",
    "Напишите функцию, которая принимает на вход словарь с оценками по дисциплинам и выдает `True`, если у студента две и более оценки ниже 4 баллов. Протестируйте свою функцию на словаре `grades` из предыдущего задания и на двух словарях, записанных в следующей ячейке:"
   ]
  },
  {
   "cell_type": "code",
   "execution_count": 176,
   "metadata": {},
   "outputs": [],
   "source": [
    "ok_grades = {'Математика': 3, 'Экономика': 4, 'Физкультура': 10, 'Английский': 6 }\n",
    "poor_grades =  {'Математика': 3, 'Экономика': 3, 'Английский': 4 }\n",
    "\n",
    "# Ваш код здесь"
   ]
  },
  {
   "cell_type": "markdown",
   "metadata": {},
   "source": [
    "#### Определить, кого из студентов можно перевести на следующий курс\n",
    "\n",
    "Данные об успеваемости студентов хранятся в виде списка кортежей вида: `(имя_студента, оценки_студента)`. Напишите функцию, которая принимает на вход данные об успеваемости и печатает список студентов, которых можно перевести на следующий курс (таких, у которых нет двух хвостов) с указанием среднего балла каждого такого студента. Используйте ранее созданные вами функции для обработки оценок."
   ]
  },
  {
   "cell_type": "code",
   "execution_count": 177,
   "metadata": {},
   "outputs": [],
   "source": [
    "students_data = [('Вася', {'Математика': 8, 'Экономика': 7, 'Физкультура' : 6}),\n",
    "                 ('Колян', {'Математика': 3, 'Экономика': 4, 'Физкультура': 10, 'Английский': 6 }),\n",
    "                 ('Петя', {'Математика': 3, 'Экономика': 3, 'Английский': 4 })]\n",
    "\n",
    "\n",
    "# Ваш код здесь"
   ]
  },
  {
   "cell_type": "markdown",
   "metadata": {},
   "source": [
    "## Списковые включения\n",
    "\n",
    "**Списковое включение** (*list comprehension*) - удобный механизм Python, который позволяет на основе существующего списка создать новый, состоящий из преобразованных элементов первоначального списка. При этом можно обрабатывать не все элементы, а только удовлетворяющие заданному условию. "
   ]
  },
  {
   "cell_type": "code",
   "execution_count": 178,
   "metadata": {},
   "outputs": [
    {
     "name": "stdout",
     "output_type": "stream",
     "text": [
      "[0, 1, 2, 3, 4, 5, 6, 7, 8, 9]\n",
      "[0, 1, 4, 9, 16, 25, 36, 49, 64, 81]\n"
     ]
    }
   ],
   "source": [
    "# На входе - список целых чисел\n",
    "list_a = list(range(10))\n",
    "print(list_a)\n",
    "# На выходе - список квадратов:\n",
    "list_b = [i**2 for i in list_a] # списковое включение\n",
    "print(list_b)"
   ]
  },
  {
   "cell_type": "markdown",
   "metadata": {},
   "source": [
    "В этом примере переменная `i` пробегает по всем элементам списка и в новый список заносятся все квадраты полученных значений.\n",
    "\n",
    "Одновременно мы можем применять фильтрацию:"
   ]
  },
  {
   "cell_type": "code",
   "execution_count": 179,
   "metadata": {},
   "outputs": [
    {
     "name": "stdout",
     "output_type": "stream",
     "text": [
      "[0, 1, 2, 3, 4, 5, 6, 7, 8, 9]\n",
      "[0, 4, 16, 36, 64]\n"
     ]
    }
   ],
   "source": [
    "print(list_a)\n",
    "# На выходе - список квадратов только четных чисел:\n",
    "list_c = [i**2 for i in list_a if i % 2 == 0] # обрабатываем только четные числа\n",
    "print(list_c)"
   ]
  },
  {
   "cell_type": "markdown",
   "metadata": {},
   "source": [
    "В этом примере переменная `i` пробегает по всем элементам списка, но в новый список заносятся только квадраты четных чисел.\n",
    "\n",
    "Аналогичного эффекта можно было достичь с помощью цикла `for`, но это было бы гораздо длиннее:"
   ]
  },
  {
   "cell_type": "code",
   "execution_count": 180,
   "metadata": {},
   "outputs": [
    {
     "name": "stdout",
     "output_type": "stream",
     "text": [
      "[0, 1, 2, 3, 4, 5, 6, 7, 8, 9]\n",
      "[0, 4, 16, 36, 64]\n"
     ]
    }
   ],
   "source": [
    "print(list_a)\n",
    "list_d = []\n",
    "for i in list_a:\n",
    "    if i %2 ==0:\n",
    "        list_d.append(i**2)\n",
    "        \n",
    "print(list_d)"
   ]
  },
  {
   "cell_type": "markdown",
   "metadata": {},
   "source": [
    "Списковые включения работают с данными любых типов, не обязательно с числами:"
   ]
  },
  {
   "cell_type": "code",
   "execution_count": 181,
   "metadata": {},
   "outputs": [
    {
     "name": "stdout",
     "output_type": "stream",
     "text": [
      "['Съешь', 'же', 'ещё', 'этих', 'мягких', 'французских', 'булок', 'да', 'выпей', 'чаю']\n",
      "[5, 2, 3, 4, 6, 11, 5, 2, 5, 3]\n"
     ]
    }
   ],
   "source": [
    "phrase = \"Съешь же ещё этих мягких французских булок да выпей чаю\"\n",
    "words = phrase.split()\n",
    "print(words)\n",
    "\n",
    "word_lengths = [len(w) for w in words] # Посчитали длину слова\n",
    "print(word_lengths) "
   ]
  },
  {
   "cell_type": "markdown",
   "metadata": {},
   "source": [
    "Аналогичным образом можно создавать и **словарные включения** (*dict comprehension*):"
   ]
  },
  {
   "cell_type": "code",
   "execution_count": 182,
   "metadata": {},
   "outputs": [
    {
     "name": "stdout",
     "output_type": "stream",
     "text": [
      "{'Съешь': 5, 'же': 2, 'ещё': 3, 'этих': 4, 'мягких': 6, 'французских': 11, 'булок': 5, 'да': 2, 'выпей': 5, 'чаю': 3}\n"
     ]
    }
   ],
   "source": [
    "words_dict = { w : len(w) for w in words}\n",
    "\n",
    "print(words_dict)"
   ]
  },
  {
   "cell_type": "markdown",
   "metadata": {},
   "source": [
    "### Задачи для тренировки\n",
    "\n",
    "#### Лесенка\n",
    "\n",
    "Используя заданный ниже список чисел `numbers` и списковое включение, получите в виде списка и напечатайте лесенку такого вида:\n",
    "```\n",
    "*\n",
    "***\n",
    "*****\n",
    "*******\n",
    "*********\n",
    "```\n"
   ]
  },
  {
   "cell_type": "code",
   "execution_count": 183,
   "metadata": {},
   "outputs": [],
   "source": [
    "numbers = list(range(1, 10, 1))\n",
    "# Ваш код здесь"
   ]
  },
  {
   "cell_type": "markdown",
   "metadata": {},
   "source": [
    "**Подсказка**: для печати списка можно использовать функцию `print()`, но чтобы можно было напечатать элементы в отдельных строках, необходимо \"распаковать\" список. Пример:"
   ]
  },
  {
   "cell_type": "code",
   "execution_count": 184,
   "metadata": {},
   "outputs": [
    {
     "name": "stdout",
     "output_type": "stream",
     "text": [
      "['a', 'b', 'c']\n"
     ]
    }
   ],
   "source": [
    "my_list = ['a', 'b', 'c']\n",
    "\n",
    "print(my_list, sep='\\n') #не то"
   ]
  },
  {
   "cell_type": "code",
   "execution_count": 185,
   "metadata": {},
   "outputs": [
    {
     "name": "stdout",
     "output_type": "stream",
     "text": [
      "a\n",
      "b\n",
      "c\n"
     ]
    }
   ],
   "source": [
    "print(*my_list, sep='\\n') #элементы списка распакованы и подставлены в print как отдельные аргументы"
   ]
  },
  {
   "cell_type": "markdown",
   "metadata": {},
   "source": [
    "#### Словарь в список\n",
    "\n",
    "На основе словаря `grades` получить с использованием спискового включения список оценок (только оценки, без указания предмета)"
   ]
  },
  {
   "cell_type": "code",
   "execution_count": 186,
   "metadata": {},
   "outputs": [],
   "source": [
    "grades = {'Математика': 8, 'Экономика': 7, 'Физкультура' : 6}\n",
    "# Ваш код здесь"
   ]
  },
  {
   "cell_type": "markdown",
   "metadata": {},
   "source": [
    "## Функция `map()`\n",
    "\n",
    "Еще одним встроенным механизмом обработки данных в коллекциях является применение функции `map()`. Эта функция принимает на вход функцию и список (или другой итерируемый объект) и применяет указанную функцию к каждому элементу.\n",
    "\n",
    "Применим функцию `len()` к списку слов:"
   ]
  },
  {
   "cell_type": "code",
   "execution_count": 187,
   "metadata": {},
   "outputs": [
    {
     "name": "stdout",
     "output_type": "stream",
     "text": [
      "['Съешь', 'же', 'ещё', 'этих', 'мягких', 'французских', 'булок', 'да', 'выпей', 'чаю']\n",
      "<map object at 0x000002DBEE434790>\n"
     ]
    }
   ],
   "source": [
    "print(words)\n",
    "words_map = map(len, words) #  обратите внимание, что скобки после имени функции не нужны\n",
    "print(words_map) # Получился итератор\n"
   ]
  },
  {
   "cell_type": "code",
   "execution_count": 188,
   "metadata": {},
   "outputs": [
    {
     "name": "stdout",
     "output_type": "stream",
     "text": [
      "[5, 2, 3, 4, 6, 11, 5, 2, 5, 3]\n"
     ]
    }
   ],
   "source": [
    "print(list(words_map)) # Преобразовали итератор в список, чтобы увидеть все элементы"
   ]
  },
  {
   "cell_type": "markdown",
   "metadata": {},
   "source": [
    "## Обработка вложенных коллекций\n",
    "\n",
    "Списковые включения и функцию `map()` можно применять и для более сложных данных - например, вложенных коллекций.\n",
    "\n",
    "Посчитаем площади нескольких прямоугольников, длина и ширина которых хранятся в списке в виде кортежа (длина, ширина):"
   ]
  },
  {
   "cell_type": "code",
   "execution_count": 189,
   "metadata": {},
   "outputs": [
    {
     "name": "stdout",
     "output_type": "stream",
     "text": [
      "[1, 4, 9, 4]\n"
     ]
    }
   ],
   "source": [
    "rectangles = [(1, 1), (2, 2), (3, 3), (4, 1)]\n",
    "\n",
    "# Через списковое включение\n",
    "areas = [h * w for h, w in rectangles] # Кортеж автоматически распаковывается в переменные h, w\n",
    "print(areas)"
   ]
  },
  {
   "cell_type": "code",
   "execution_count": 190,
   "metadata": {},
   "outputs": [
    {
     "name": "stdout",
     "output_type": "stream",
     "text": [
      "[1, 4, 9, 4]\n"
     ]
    }
   ],
   "source": [
    "# Через map:\n",
    "def area(size):\n",
    "    return size[0] * size[1] #size - это кортеж (длина, ширина)\n",
    "\n",
    "areas_map = map(area, rectangles)\n",
    "print(list(areas_map))"
   ]
  },
  {
   "cell_type": "markdown",
   "metadata": {},
   "source": [
    "При использовании `map()` для вычислений удобно вместо создания функций для расчета использовать анонимные функции (лямбда-выражения):"
   ]
  },
  {
   "cell_type": "code",
   "execution_count": 191,
   "metadata": {},
   "outputs": [
    {
     "name": "stdout",
     "output_type": "stream",
     "text": [
      "[1, 4, 9, 4]\n"
     ]
    }
   ],
   "source": [
    "areas_map = map(lambda x: x[0] * x[1], rectangles)\n",
    "print(list(areas_map))"
   ]
  },
  {
   "cell_type": "markdown",
   "metadata": {},
   "source": [
    "В качестве еще одного примера рассчитаем расстояние между городами на основе их координат.\n",
    "\n",
    "В списке `cities` содержатся словари с данными о городах:"
   ]
  },
  {
   "cell_type": "code",
   "execution_count": 192,
   "metadata": {},
   "outputs": [],
   "source": [
    "cities = [\n",
    "    {'Город':'Москва', 'Широта': 55.75583, 'Долгота': 37.61778},\n",
    "    {'Город':'Питер', 'Широта': 59.939185, 'Долгота': 30.315741},\n",
    "    {'Город':'Сочи', 'Широта': 43.580339, 'Долгота':  39.719425}            \n",
    "]"
   ]
  },
  {
   "cell_type": "markdown",
   "metadata": {},
   "source": [
    "Определим функцию для расчета расстояния на основе широты и долготы (это упрощенный вариант, дающий погрешность, более точный вариант - [такой](https://gis-lab.info/qa/great-circles.html)."
   ]
  },
  {
   "cell_type": "code",
   "execution_count": 193,
   "metadata": {},
   "outputs": [],
   "source": [
    "from math import sqrt\n",
    "\n",
    "def distance(lat1, lat2, lon1, lon2):\n",
    "    return round(111.2 * sqrt((lat1 - lat2)**2 + (lon1 - lon2)**2)) "
   ]
  },
  {
   "cell_type": "markdown",
   "metadata": {},
   "source": [
    "Посчитаем с помощью спискового включения расстояние между всеми парами городов, за исключением совпадающих:"
   ]
  },
  {
   "cell_type": "code",
   "execution_count": 194,
   "metadata": {},
   "outputs": [
    {
     "data": {
      "text/plain": [
       "[('Москва', 'Питер', 936),\n",
       " ('Москва', 'Сочи', 1374),\n",
       " ('Питер', 'Москва', 936),\n",
       " ('Питер', 'Сочи', 2098),\n",
       " ('Сочи', 'Москва', 1374),\n",
       " ('Сочи', 'Питер', 2098)]"
      ]
     },
     "execution_count": 194,
     "metadata": {},
     "output_type": "execute_result"
    }
   ],
   "source": [
    "[ (ca['Город'], \n",
    " cb['Город'], \n",
    " distance(ca['Широта'], cb['Широта'], \n",
    "          ca['Долгота'], cb['Долгота'])) \n",
    " for ca in cities for cb in cities if ca != cb]"
   ]
  },
  {
   "cell_type": "markdown",
   "metadata": {},
   "source": [
    "### Задачи для тренировки\n",
    "\n",
    "#### Отличники\n",
    "\n",
    "В списке `grades` содержатся результаты сдачи студентами экзамена. Используя функцию `map()`, получите список значений `True` (если студент получил отличную оценку, выше 8) или `False`, если это не так."
   ]
  },
  {
   "cell_type": "code",
   "execution_count": 195,
   "metadata": {},
   "outputs": [],
   "source": [
    "grades = [10, 4, 7, 7, 5, 8, 7]\n",
    "\n",
    "# Ваш код здесь"
   ]
  },
  {
   "cell_type": "markdown",
   "metadata": {},
   "source": [
    "#### Рейтинг\n",
    "\n",
    "В списке `students_data` содержатся результаты сдачи студентами сессии. Получите на основе этих данных список, состоящий из кортежей: `(Студент, Сумма оценок)`\n"
   ]
  },
  {
   "cell_type": "code",
   "execution_count": 196,
   "metadata": {},
   "outputs": [],
   "source": [
    "students_data = [('Вася', {'Математика': 8, 'Экономика': 7, 'Физкультура' : 6}),\n",
    "                 ('Колян', {'Математика': 3, 'Экономика': 4, 'Физкультура': 10, 'Английский': 6 }),\n",
    "                 ('Петя', {'Математика': 3, 'Экономика': 3, 'Английский': 4 })]\n",
    "\n",
    "# Ваш код здесь"
   ]
  },
  {
   "cell_type": "markdown",
   "metadata": {},
   "source": [
    "**Подсказка**: можно получить все значения словаря в виде списка, используя его метод `values()`:"
   ]
  },
  {
   "cell_type": "code",
   "execution_count": 197,
   "metadata": {},
   "outputs": [
    {
     "data": {
      "text/plain": [
       "dict_values([1, 2, 3])"
      ]
     },
     "execution_count": 197,
     "metadata": {},
     "output_type": "execute_result"
    }
   ],
   "source": [
    "my_dict = { 'a' : 1, 'b': 2, 'c': 3}\n",
    "my_dict.values()"
   ]
  },
  {
   "cell_type": "markdown",
   "metadata": {},
   "source": [
    "#### Спортсмены\n",
    "\n",
    "В списке `fighters` содержится вес нескольких борцов в кг. Используя списочное включение, получите список возможных пар спортсменов для поединков с указанием разницы в весе: `[(Спортсмен 1, Спортсмен 2, Разница в весе)]`. \n",
    "Вес двух спортсменов, участвующих в поединке, не должен отличаться более чем на 4 кг. "
   ]
  },
  {
   "cell_type": "code",
   "execution_count": 198,
   "metadata": {},
   "outputs": [],
   "source": [
    "fighters = [\n",
    "    ('Угуев Заур', 57),\n",
    "    ('Сюлейман Атлы', 57),\n",
    "    ('Бека Ломтадзе', 61),\n",
    "    ('Магомедрасул Идрисов', 61),\n",
    "    ('Даулет Ниязбеков' , 60),\n",
    "    ('Исмаил Мусукаев', 64),\n",
    "    ('Юнес Эмами', 65)    \n",
    "]\n",
    "\n",
    "# Ваш код здесь"
   ]
  }
 ],
 "metadata": {
  "hide_input": false,
  "kernelspec": {
   "display_name": "Python 3",
   "language": "python",
   "name": "python3"
  },
  "language_info": {
   "codemirror_mode": {
    "name": "ipython",
    "version": 3
   },
   "file_extension": ".py",
   "mimetype": "text/x-python",
   "name": "python",
   "nbconvert_exporter": "python",
   "pygments_lexer": "ipython3",
   "version": "3.8.3"
  },
  "latex_envs": {
   "bibliofile": "biblio.bib",
   "cite_by": "apalike",
   "current_citInitial": 1,
   "eqLabelWithNumbers": true,
   "eqNumInitial": 0
  },
  "toc": {
   "nav_menu": {},
   "number_sections": false,
   "sideBar": true,
   "skip_h1_title": false,
   "toc_cell": false,
   "toc_position": {},
   "toc_section_display": "block",
   "toc_window_display": false
  },
  "varInspector": {
   "cols": {
    "lenName": 16,
    "lenType": 16,
    "lenVar": 40
   },
   "kernels_config": {
    "python": {
     "delete_cmd_postfix": "",
     "delete_cmd_prefix": "del ",
     "library": "var_list.py",
     "varRefreshCmd": "print(var_dic_list())"
    },
    "r": {
     "delete_cmd_postfix": ") ",
     "delete_cmd_prefix": "rm(",
     "library": "var_list.r",
     "varRefreshCmd": "cat(var_dic_list()) "
    }
   },
   "types_to_exclude": [
    "module",
    "function",
    "builtin_function_or_method",
    "instance",
    "_Feature"
   ],
   "window_display": false
  }
 },
 "nbformat": 4,
 "nbformat_minor": 1
}
