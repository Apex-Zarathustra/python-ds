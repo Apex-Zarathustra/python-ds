{
 "cells": [
  {
   "cell_type": "markdown",
   "metadata": {},
   "source": [
    "# Вычисления в Jupyter Notebook: переменные, функции, модули и пакеты"
   ]
  },
  {
   "cell_type": "markdown",
   "metadata": {},
   "source": [
    "[К оглавлению](00_contents.ipynb)"
   ]
  },
  {
   "cell_type": "markdown",
   "metadata": {},
   "source": [
    "## Выполнение кода\n",
    "\n",
    "### Общие принципы\n",
    "* Содержание блокнота - это компьютерная программа, то есть инструкция для компьютера, которая позволяет ему прийти к нужному вам результату\n",
    "* Вы можете создавать и выполнять эту программу последовательно, по частям. В любой момент можно остановиться и изучить полученные результаты.\n",
    "* Блокнот позволяет только редактировать код и отображать выполнения. Все вычисления производятся ядром (kernel) - интерпретатором Python, запущенным на вашем компьютере\n",
    "* При первом открытии блокнота, или после перезапуска ядра все нужно вычислять заново\n",
    "* Блокнот сохраняет содержимое ячеек вывода, поэтому если нужно только посмотреть на результаты, то повторные вычисления не требуются\n"
   ]
  },
  {
   "cell_type": "markdown",
   "metadata": {},
   "source": [
    "### Выражения\n",
    "\n",
    "Выражения - это формулы, составленные из констант, имен переменных и функций. Выражение может быть вычислено. Результатом вычисления является некоторое значение, которое может быть в дальнейшем использовано. \n",
    "\n",
    "Несколько простых выражений"
   ]
  },
  {
   "cell_type": "code",
   "execution_count": 1,
   "metadata": {},
   "outputs": [
    {
     "data": {
      "text/plain": [
       "6"
      ]
     },
     "execution_count": 1,
     "metadata": {},
     "output_type": "execute_result"
    }
   ],
   "source": [
    "# Математические вычисления\n",
    "2 + 2 * 2"
   ]
  },
  {
   "cell_type": "code",
   "execution_count": 2,
   "metadata": {},
   "outputs": [
    {
     "data": {
      "text/plain": [
       "515"
      ]
     },
     "execution_count": 2,
     "metadata": {},
     "output_type": "execute_result"
    }
   ],
   "source": [
    "# Использование встроенной функции\n",
    "15 + max(100, 500)"
   ]
  },
  {
   "cell_type": "code",
   "execution_count": 3,
   "metadata": {},
   "outputs": [
    {
     "data": {
      "text/plain": [
       "'учиться, учиться, и еще раз учиться'"
      ]
     },
     "execution_count": 3,
     "metadata": {},
     "output_type": "execute_result"
    }
   ],
   "source": [
    "# Операции со строками\n",
    "'учиться, ' * 2 + 'и еще раз учиться'"
   ]
  },
  {
   "cell_type": "code",
   "execution_count": 4,
   "metadata": {},
   "outputs": [
    {
     "data": {
      "text/plain": [
       "9"
      ]
     },
     "execution_count": 4,
     "metadata": {},
     "output_type": "execute_result"
    }
   ],
   "source": [
    "# Несколько выражений в одной ячейке\n",
    "2 * 2\n",
    "3 * 3"
   ]
  },
  {
   "cell_type": "markdown",
   "metadata": {},
   "source": [
    "### Автовывод результатов\n",
    "\n",
    "- Если результат вычисления выражения не присваивается никакой переменной, то он выводится на экран (автовывод - autoprint).\n",
    "- Выводится только последний результат в ячейке\n",
    "- При необходимости, можно отключить автовывод, добавив в конце выражения символ ;"
   ]
  },
  {
   "cell_type": "code",
   "execution_count": 5,
   "metadata": {},
   "outputs": [],
   "source": [
    "# Отключить автовывод\n",
    "2**10;"
   ]
  },
  {
   "cell_type": "markdown",
   "metadata": {},
   "source": [
    "### Печать результатов\n",
    "\n",
    "Если вам, наоборот, необходимо вывести в одной ячейке несколько результатов - используйте функцию `print()`"
   ]
  },
  {
   "cell_type": "code",
   "execution_count": 6,
   "metadata": {},
   "outputs": [
    {
     "name": "stdout",
     "output_type": "stream",
     "text": [
      "Привет, мир!\n",
      "4 9\n"
     ]
    }
   ],
   "source": [
    "print(\"Привет, мир!\")\n",
    "print(2 * 2, 3 * 3)"
   ]
  },
  {
   "cell_type": "markdown",
   "metadata": {},
   "source": [
    "## Переменные\n",
    "\n",
    "**Переменные** позволяют сохранять результаты вычислений и использовать их в дальнейшем. Чтобы обратиться к результату, можно использовать *имя переменной*, которой этот результат был *присвоен* с помощью *оператора* `=`."
   ]
  },
  {
   "cell_type": "code",
   "execution_count": 7,
   "metadata": {},
   "outputs": [],
   "source": [
    "x = 2**10"
   ]
  },
  {
   "cell_type": "code",
   "execution_count": 8,
   "metadata": {},
   "outputs": [
    {
     "data": {
      "text/plain": [
       "1024"
      ]
     },
     "execution_count": 8,
     "metadata": {},
     "output_type": "execute_result"
    }
   ],
   "source": [
    "x"
   ]
  },
  {
   "cell_type": "code",
   "execution_count": 9,
   "metadata": {},
   "outputs": [
    {
     "data": {
      "text/plain": [
       "2048"
      ]
     },
     "execution_count": 9,
     "metadata": {},
     "output_type": "execute_result"
    }
   ],
   "source": [
    "2 * x"
   ]
  },
  {
   "cell_type": "markdown",
   "metadata": {},
   "source": [
    "В Python не нужно объявлять тип переменной. Тип определяется тем результатом (объектом), на который переменная ссылается (динамическая типизация)"
   ]
  },
  {
   "cell_type": "code",
   "execution_count": 10,
   "metadata": {},
   "outputs": [],
   "source": [
    "x = 'Хорошо! '"
   ]
  },
  {
   "cell_type": "code",
   "execution_count": 11,
   "metadata": {},
   "outputs": [
    {
     "data": {
      "text/plain": [
       "'Хорошо! Хорошо! '"
      ]
     },
     "execution_count": 11,
     "metadata": {},
     "output_type": "execute_result"
    }
   ],
   "source": [
    "2 * x"
   ]
  },
  {
   "cell_type": "markdown",
   "metadata": {},
   "source": [
    "### Порядок вычислений в блокноте\n",
    "\n",
    "Код в блокноте записан последовательно. Однако вы можете изменить порядок выполнения, запуская отдельные ячейки в произвольном порядке.\n",
    "При этом значения переменных и другие результаты вычислений будут определяться порядком **выполнения** ячеек с кодом, а не порядком их **записи** в блокноте!\n",
    "\n",
    "При перезапуске ядра все результаты в памяти стираются. Их нужно будет получать заново, запуская соответствующие ячейки."
   ]
  },
  {
   "cell_type": "markdown",
   "metadata": {},
   "source": [
    "## Функции\n",
    "\n",
    "Функции позволяют разделить код на отдельные блоки, которые можно затем многократно использовать, не заботясь о деталях реализации. Если вы видите, что некоторый код может использоваться более одного раза - возможно, с небольшими вариациями, то имеет смысл оформить его в виде функции. Функции могут сделать код более понятным, потому что позволяют задать имя для сложного действия, включающего несколько взаимосвязанных операторов.\n",
    "\n",
    "- В отличие от имен переменных, после имени функции обязательно должны следовать скобки ()\n",
    "\n",
    "- Функция может иметь набор *аргументов*, которые нужно задавать при вызове функции.\n",
    "\n",
    "- Функция может возвращать *значение*. В этом случае функцию можно использовать как часть выражения, т.е. использовать возвращаемый результат в формуле."
   ]
  },
  {
   "cell_type": "code",
   "execution_count": 12,
   "metadata": {},
   "outputs": [
    {
     "data": {
      "text/plain": [
       "3.14"
      ]
     },
     "execution_count": 12,
     "metadata": {},
     "output_type": "execute_result"
    }
   ],
   "source": [
    "# Пример использования функции\n",
    "round(3.1415, 2)"
   ]
  },
  {
   "cell_type": "markdown",
   "metadata": {},
   "source": [
    "![](pics/function.png)"
   ]
  },
  {
   "cell_type": "markdown",
   "metadata": {},
   "source": [
    "Функция может также не возвращать значения (точнее, возвращать значение `None`). Такие функции используются, когда интересен не результат, а действия, которое выполняет эта функция. Например, с помощью функции `print()` можно вывести результат вычисления:"
   ]
  },
  {
   "cell_type": "code",
   "execution_count": 13,
   "metadata": {},
   "outputs": [
    {
     "name": "stdout",
     "output_type": "stream",
     "text": [
      "Привет, мир!\n",
      "None\n"
     ]
    }
   ],
   "source": [
    "result = print(\"Привет, мир!\")\n",
    "print(result)"
   ]
  },
  {
   "cell_type": "markdown",
   "metadata": {},
   "source": [
    "### Встроенные функции"
   ]
  },
  {
   "cell_type": "markdown",
   "metadata": {},
   "source": [
    "В Python доступно множество встроенных функций. Увидеть список встроенных функций можно с помощью функции `dir()`:"
   ]
  },
  {
   "cell_type": "code",
   "execution_count": 14,
   "metadata": {},
   "outputs": [
    {
     "name": "stdout",
     "output_type": "stream",
     "text": [
      "['ArithmeticError', 'AssertionError', 'AttributeError', 'BaseException', 'BlockingIOError', 'BrokenPipeError', 'BufferError', 'BytesWarning', 'ChildProcessError', 'ConnectionAbortedError', 'ConnectionError', 'ConnectionRefusedError', 'ConnectionResetError', 'DeprecationWarning', 'EOFError', 'Ellipsis', 'EnvironmentError', 'Exception', 'False', 'FileExistsError', 'FileNotFoundError', 'FloatingPointError', 'FutureWarning', 'GeneratorExit', 'IOError', 'ImportError', 'ImportWarning', 'IndentationError', 'IndexError', 'InterruptedError', 'IsADirectoryError', 'KeyError', 'KeyboardInterrupt', 'LookupError', 'MemoryError', 'ModuleNotFoundError', 'NameError', 'None', 'NotADirectoryError', 'NotImplemented', 'NotImplementedError', 'OSError', 'OverflowError', 'PendingDeprecationWarning', 'PermissionError', 'ProcessLookupError', 'RecursionError', 'ReferenceError', 'ResourceWarning', 'RuntimeError', 'RuntimeWarning', 'StopAsyncIteration', 'StopIteration', 'SyntaxError', 'SyntaxWarning', 'SystemError', 'SystemExit', 'TabError', 'TimeoutError', 'True', 'TypeError', 'UnboundLocalError', 'UnicodeDecodeError', 'UnicodeEncodeError', 'UnicodeError', 'UnicodeTranslateError', 'UnicodeWarning', 'UserWarning', 'ValueError', 'Warning', 'WindowsError', 'ZeroDivisionError', '__IPYTHON__', '__build_class__', '__debug__', '__doc__', '__import__', '__loader__', '__name__', '__package__', '__spec__', 'abs', 'all', 'any', 'ascii', 'bin', 'bool', 'breakpoint', 'bytearray', 'bytes', 'callable', 'chr', 'classmethod', 'compile', 'complex', 'copyright', 'credits', 'delattr', 'dict', 'dir', 'display', 'divmod', 'enumerate', 'eval', 'exec', 'filter', 'float', 'format', 'frozenset', 'get_ipython', 'getattr', 'globals', 'hasattr', 'hash', 'help', 'hex', 'id', 'input', 'int', 'isinstance', 'issubclass', 'iter', 'len', 'license', 'list', 'locals', 'map', 'max', 'memoryview', 'min', 'next', 'object', 'oct', 'open', 'ord', 'pow', 'print', 'property', 'range', 'repr', 'reversed', 'round', 'set', 'setattr', 'slice', 'sorted', 'staticmethod', 'str', 'sum', 'super', 'tuple', 'type', 'vars', 'zip']\n"
     ]
    }
   ],
   "source": [
    "# Список встроенных функций (и не только функций)\n",
    "print(dir(__builtin__))"
   ]
  },
  {
   "cell_type": "markdown",
   "metadata": {},
   "source": [
    "Еще больше функций содержится в библиотеках, которые вы можете подключить и использовать для решения своих задач.\n",
    "\n",
    "### Справка по функциям\n",
    "Справку по фукнкции можно получить так:\n",
    "- `help(функция)` - краткая справка (docstring), вывод в ячейку результата\n",
    "- `функция?` - краткая справка (в docstring), вывод в отдельную панель\n",
    "- `функция??` - расширенная справка, выводится код функции (если он доступен), вывод в отдельную панель\n",
    "\n",
    "Закрыть панель со справкой можно по клавише `q` или щелчком на разделителе."
   ]
  },
  {
   "cell_type": "code",
   "execution_count": 15,
   "metadata": {},
   "outputs": [
    {
     "name": "stdout",
     "output_type": "stream",
     "text": [
      "Help on built-in function print in module builtins:\n",
      "\n",
      "print(...)\n",
      "    print(value, ..., sep=' ', end='\\n', file=sys.stdout, flush=False)\n",
      "    \n",
      "    Prints the values to a stream, or to sys.stdout by default.\n",
      "    Optional keyword arguments:\n",
      "    file:  a file-like object (stream); defaults to the current sys.stdout.\n",
      "    sep:   string inserted between values, default a space.\n",
      "    end:   string appended after the last value, default a newline.\n",
      "    flush: whether to forcibly flush the stream.\n",
      "\n"
     ]
    }
   ],
   "source": [
    "# Справка по функции print\n",
    "help(print)"
   ]
  },
  {
   "cell_type": "code",
   "execution_count": 16,
   "metadata": {},
   "outputs": [],
   "source": [
    "# Справка по функции print в отдельной панели\n",
    "print?"
   ]
  },
  {
   "cell_type": "markdown",
   "metadata": {},
   "source": [
    "### Автодополнение\n",
    "При вводе имен переменных и функций в блокноте работает автодополнение (`Tab`).\n",
    "\n",
    "Подсказку по аргументам функции можно получить по клавише `Shift-Tab` (сначала набрать имя функции и открывающую скобку)"
   ]
  },
  {
   "cell_type": "code",
   "execution_count": 17,
   "metadata": {},
   "outputs": [],
   "source": [
    "#Какие аргументы есть у встроенной функции print?\n",
    "#print("
   ]
  },
  {
   "cell_type": "markdown",
   "metadata": {},
   "source": [
    "### Вызов функций"
   ]
  },
  {
   "cell_type": "code",
   "execution_count": 18,
   "metadata": {},
   "outputs": [
    {
     "name": "stdout",
     "output_type": "stream",
     "text": [
      "Help on built-in function round in module builtins:\n",
      "\n",
      "round(number, ndigits=None)\n",
      "    Round a number to a given precision in decimal digits.\n",
      "    \n",
      "    The return value is an integer if ndigits is omitted or None.  Otherwise\n",
      "    the return value has the same type as the number.  ndigits may be negative.\n",
      "\n"
     ]
    }
   ],
   "source": [
    "help(round)"
   ]
  },
  {
   "cell_type": "markdown",
   "metadata": {},
   "source": [
    "Передавать аргументы в функцию можно по порядку, либо по имени. Обычно перечисление по порядку используется для 1-2 первых аргументов функции, для большего количества сложно запомнить правильный порядок. "
   ]
  },
  {
   "cell_type": "code",
   "execution_count": 19,
   "metadata": {},
   "outputs": [
    {
     "data": {
      "text/plain": [
       "3.14"
      ]
     },
     "execution_count": 19,
     "metadata": {},
     "output_type": "execute_result"
    }
   ],
   "source": [
    "round(3.1415, 2)"
   ]
  },
  {
   "cell_type": "markdown",
   "metadata": {},
   "source": [
    "Если аргументов много, то их лучше указывать по имени, в любом порядке:"
   ]
  },
  {
   "cell_type": "code",
   "execution_count": 20,
   "metadata": {},
   "outputs": [
    {
     "data": {
      "text/plain": [
       "3.14"
      ]
     },
     "execution_count": 20,
     "metadata": {},
     "output_type": "execute_result"
    }
   ],
   "source": [
    "round(number=3.1415, ndigits=2)"
   ]
  },
  {
   "cell_type": "code",
   "execution_count": 21,
   "metadata": {},
   "outputs": [
    {
     "data": {
      "text/plain": [
       "3.14"
      ]
     },
     "execution_count": 21,
     "metadata": {},
     "output_type": "execute_result"
    }
   ],
   "source": [
    "round(ndigits=2, number=3.1415)"
   ]
  },
  {
   "cell_type": "markdown",
   "metadata": {},
   "source": [
    "Можно совмещать эти два способа."
   ]
  },
  {
   "cell_type": "code",
   "execution_count": 22,
   "metadata": {},
   "outputs": [
    {
     "data": {
      "text/plain": [
       "3.14"
      ]
     },
     "execution_count": 22,
     "metadata": {},
     "output_type": "execute_result"
    }
   ],
   "source": [
    "round(3.1415, ndigits=2) # вначале должны следовать позиционные аргументы, затем - именованные"
   ]
  },
  {
   "cell_type": "markdown",
   "metadata": {},
   "source": [
    "У многих функций есть значения аргументов по умолчанию. Это отражено в справке по функции и видно при использовании автодополнения. Например, по умолчанию аргумент `ndigits` равен `None`, поэтому округление производится до целого числа.  Аналогичным образом, по умолчанию при печати с помощью `print()` значения выводятся через пробел, но это можно изменить:"
   ]
  },
  {
   "cell_type": "code",
   "execution_count": 23,
   "metadata": {},
   "outputs": [
    {
     "name": "stdout",
     "output_type": "stream",
     "text": [
      "Help on built-in function print in module builtins:\n",
      "\n",
      "print(...)\n",
      "    print(value, ..., sep=' ', end='\\n', file=sys.stdout, flush=False)\n",
      "    \n",
      "    Prints the values to a stream, or to sys.stdout by default.\n",
      "    Optional keyword arguments:\n",
      "    file:  a file-like object (stream); defaults to the current sys.stdout.\n",
      "    sep:   string inserted between values, default a space.\n",
      "    end:   string appended after the last value, default a newline.\n",
      "    flush: whether to forcibly flush the stream.\n",
      "\n"
     ]
    }
   ],
   "source": [
    "help(print)"
   ]
  },
  {
   "cell_type": "code",
   "execution_count": 24,
   "metadata": {},
   "outputs": [
    {
     "name": "stdout",
     "output_type": "stream",
     "text": [
      "Первый второй\n",
      "Первый\n",
      "второй\n"
     ]
    }
   ],
   "source": [
    "print(\"Первый\", \"второй\")\n",
    "print(\"Первый\", \"второй\", sep='\\n') #\\n - символ новой строки"
   ]
  },
  {
   "cell_type": "markdown",
   "metadata": {},
   "source": [
    "Функция может иметь произвольное число аргументов"
   ]
  },
  {
   "cell_type": "code",
   "execution_count": 25,
   "metadata": {},
   "outputs": [
    {
     "name": "stdout",
     "output_type": "stream",
     "text": [
      "Help on built-in function min in module builtins:\n",
      "\n",
      "min(...)\n",
      "    min(iterable, *[, default=obj, key=func]) -> value\n",
      "    min(arg1, arg2, *args, *[, key=func]) -> value\n",
      "    \n",
      "    With a single iterable argument, return its smallest item. The\n",
      "    default keyword-only argument specifies an object to return if\n",
      "    the provided iterable is empty.\n",
      "    With two or more arguments, return the smallest argument.\n",
      "\n"
     ]
    }
   ],
   "source": [
    "help(min)"
   ]
  },
  {
   "cell_type": "code",
   "execution_count": 26,
   "metadata": {},
   "outputs": [
    {
     "data": {
      "text/plain": [
       "1"
      ]
     },
     "execution_count": 26,
     "metadata": {},
     "output_type": "execute_result"
    }
   ],
   "source": [
    "min(1, 2)"
   ]
  },
  {
   "cell_type": "code",
   "execution_count": 27,
   "metadata": {},
   "outputs": [
    {
     "data": {
      "text/plain": [
       "1"
      ]
     },
     "execution_count": 27,
     "metadata": {},
     "output_type": "execute_result"
    }
   ],
   "source": [
    "min(1, 2, 3, 4, 5)"
   ]
  },
  {
   "cell_type": "markdown",
   "metadata": {},
   "source": [
    "### Пользовательские функции\n",
    "\n",
    "Свою функцию можно определить, используя оператор `def`"
   ]
  },
  {
   "cell_type": "code",
   "execution_count": 28,
   "metadata": {},
   "outputs": [],
   "source": [
    "# Функция, которая возвращает квадрат значения\n",
    "def square(x):\n",
    "    return x * x"
   ]
  },
  {
   "cell_type": "markdown",
   "metadata": {},
   "source": [
    "NB: По отступам Python определяет вложенность блоков кода (клавиша `Tab`)\n",
    "\n",
    "Чтобы изменить уровень вложенности, надо выделить нужные строки и воспользоваться клавишами `Tab` или `Shift-Tab`"
   ]
  },
  {
   "cell_type": "code",
   "execution_count": 29,
   "metadata": {},
   "outputs": [
    {
     "data": {
      "text/plain": [
       "25"
      ]
     },
     "execution_count": 29,
     "metadata": {},
     "output_type": "execute_result"
    }
   ],
   "source": [
    "# Вызов пользовательской функции\n",
    "square(5)"
   ]
  },
  {
   "cell_type": "code",
   "execution_count": 30,
   "metadata": {},
   "outputs": [],
   "source": [
    "# Подсказка по аргументам пользовательской фуникци\n",
    "#square("
   ]
  },
  {
   "cell_type": "markdown",
   "metadata": {},
   "source": [
    "### Документирование функций - docstring\n",
    "Для того, чтобы подсказка выводилась и по собственным функциям, необходимо поместить после заголовка функции специальный комментарий - docstring"
   ]
  },
  {
   "cell_type": "code",
   "execution_count": 31,
   "metadata": {},
   "outputs": [],
   "source": [
    "def distance(x0, y0, x1, y1):\n",
    "    '''\n",
    "    Вычисление расстояния между двумя точками на плоскости\n",
    "    Аргументы:\n",
    "    x0, y0 - координаты первой точки\n",
    "    x1, y1 - координаты второй точки\n",
    "    '''\n",
    "    return ((x0 - x1)**2 + (y0 - y1)**2)**.5    "
   ]
  },
  {
   "cell_type": "code",
   "execution_count": 32,
   "metadata": {},
   "outputs": [],
   "source": [
    "#проверка:\n",
    "#distance(\n",
    "\n",
    "#вычислите координаты между точками (5, 5) и (5, 6)"
   ]
  },
  {
   "cell_type": "markdown",
   "metadata": {},
   "source": [
    "### Лямбда-выражения\n",
    "\n",
    "Простые однострочные функции - например, математические - удобно определять так:"
   ]
  },
  {
   "cell_type": "code",
   "execution_count": 33,
   "metadata": {},
   "outputs": [
    {
     "data": {
      "text/plain": [
       "5"
      ]
     },
     "execution_count": 33,
     "metadata": {},
     "output_type": "execute_result"
    }
   ],
   "source": [
    "f = lambda x,y : x**2 + y**2\n",
    "\n",
    "f(1, 2)"
   ]
  },
  {
   "cell_type": "markdown",
   "metadata": {},
   "source": [
    "Такой способ определения функций называется **лямбда-выражение**. Интерсно, что лямбда-выражения можно использовать даже не присваивая полученной функции никакого имени. Можно написать лямбда-выражение прямо в том месте, где ожидается имя функции (мы это будем использовать позднее, при работе с табличными данными)\n",
    "\n",
    "Ограничением лямбда-выражений является то, что в них нельзя использовать никаких операторов."
   ]
  },
  {
   "cell_type": "markdown",
   "metadata": {},
   "source": [
    "### Область видимости\n",
    "\n",
    "Определяемые пользователем переменные и функции имеют свою _область видимости_ (_scope_). Видимость имени определяется тем, в каком месте кода оно определено.\n",
    "\n",
    "Просмотреть список имен пользовательских переменных и функций в текущей области видимости можно с помощью волшебных команд: `%who` и `%whos`. Также можно использовать функцию `dir()`"
   ]
  },
  {
   "cell_type": "code",
   "execution_count": 34,
   "metadata": {},
   "outputs": [
    {
     "name": "stdout",
     "output_type": "stream",
     "text": [
      "distance\t f\t result\t square\t x\t \n"
     ]
    }
   ],
   "source": [
    "%who"
   ]
  },
  {
   "cell_type": "code",
   "execution_count": 35,
   "metadata": {},
   "outputs": [
    {
     "name": "stdout",
     "output_type": "stream",
     "text": [
      "Variable   Type        Data/Info\n",
      "--------------------------------\n",
      "distance   function    <function distance at 0x00000192EADF1820>\n",
      "f          function    <function <lambda> at 0x00000192EADF11F0>\n",
      "result     NoneType    None\n",
      "square     function    <function square at 0x00000192EADFEC10>\n",
      "x          str         Хорошо! \n"
     ]
    }
   ],
   "source": [
    "%whos"
   ]
  },
  {
   "cell_type": "markdown",
   "metadata": {},
   "source": [
    "### Локальные и глобальные переменные\n",
    "\n",
    "_Глобальные переменные_ определяются в модуле (верхний уровень программы). Они доступны из любого места модуля (у нас - блокнота).\n",
    "\n",
    "_Локальные переменные_ определяются в теле функции. Они доступны только внутри функции.\n"
   ]
  },
  {
   "cell_type": "code",
   "execution_count": 36,
   "metadata": {},
   "outputs": [
    {
     "name": "stdout",
     "output_type": "stream",
     "text": [
      "функция proba 20 10 30\n",
      "функция proba ['x', 'z']\n",
      "модуль 5 10\n",
      "distance\t f\t proba\t result\t square\t x\t y\t \n"
     ]
    }
   ],
   "source": [
    "x = 5 #глобальная переменная\n",
    "y = 10 #глобальная переменная\n",
    "\n",
    "def proba(x):     \n",
    "    z = 30 #локальная переменная\n",
    "    print('функция proba', x, y, z) # внутри функции имя x будет связано со значением первого аргумента функции    \n",
    "    print('функция proba', dir())\n",
    "    \n",
    "proba(20)\n",
    "\n",
    "print('модуль', x, y)\n",
    "\n",
    "#print(x, y, z) #ошибка! Переменная z доступна только внутри функции\n",
    "\n",
    "%who\n"
   ]
  },
  {
   "cell_type": "markdown",
   "metadata": {},
   "source": [
    "![Область для функции proba](pics/scope.svg 'Область для функции proba')"
   ]
  },
  {
   "cell_type": "code",
   "execution_count": 37,
   "metadata": {},
   "outputs": [
    {
     "name": "stdout",
     "output_type": "stream",
     "text": [
      "функция proba2 50 100 30\n",
      "функция proba2 ['x', 'y', 'z']\n",
      "модуль 5 10\n",
      "distance\t f\t proba\t proba2\t result\t square\t x\t y\t \n"
     ]
    }
   ],
   "source": [
    "x = 5 #глобальная переменная\n",
    "y = 10 #глобальная переменная\n",
    "\n",
    "def proba2(x):\n",
    "    x = 50 #внутри функции имя x будет связано со значением первого аргумента функции    \n",
    "    z = 30 #локальная переменная\n",
    "    y = 100 #локальная переменная, перекрывающая глобальную\n",
    "    print('функция proba2', x, y, z)\n",
    "    print('функция proba2', dir())    \n",
    "    \n",
    "proba2(20)\n",
    "\n",
    "print('модуль', x, y) # значения не изменились\n",
    "\n",
    "%who"
   ]
  },
  {
   "cell_type": "markdown",
   "metadata": {},
   "source": [
    "![Область для функции proba2](pics/scope2.svg 'Область для функции proba2')"
   ]
  },
  {
   "cell_type": "markdown",
   "metadata": {},
   "source": [
    "## Модули и импорт\n",
    "\n",
    "- Большие программы обычно разбиваются на отдельные файлы - модули. \n",
    "- _Модуль_ в Python - это файл, содержащий определения переменных, функций и классов. \n",
    "- Модули разрабатывают как логически завершенные наборы объектов, позволяющие решить некоторую задачу или логически связанные задачи. Например, в модуле `sys` содержатся объекты для работы с системными ресурсами, в модуле `math` - математические функции и константы.\n",
    "- Внутри модуля доступны все объекты, определенные в нем. Также можно пользоваться объектами, определенными в других модулях. Для этого их нужно _импортировать_ с помощью операторов `import` или `from`."
   ]
  },
  {
   "cell_type": "code",
   "execution_count": 38,
   "metadata": {},
   "outputs": [],
   "source": [
    "import sys #импорт всех объектов из модуля sys, они будут доступны через sys.имя\n",
    "from math import pi #импорт одной переменной из модуля math, она будет доступна как pi"
   ]
  },
  {
   "cell_type": "markdown",
   "metadata": {},
   "source": [
    "### Пространства имен\n",
    "\n",
    "Чтобы избежать конфликта имен, при импорте модуля оператором `import` имена объектов, определенных в модуле, добавляются в отдельное **пространство имен**. К ним нужно обращаться так:\n",
    "\n",
    "`модуль.имя объекта`.  \n",
    "\n",
    "Список всех объектов в модуле после импорта можно просмотреть функцией `dir(модуль)`"
   ]
  },
  {
   "cell_type": "code",
   "execution_count": 39,
   "metadata": {},
   "outputs": [
    {
     "name": "stdout",
     "output_type": "stream",
     "text": [
      "Объекты из модуля sys:\n",
      " ['__breakpointhook__', '__displayhook__', '__doc__', '__excepthook__', '__interactivehook__', '__loader__', '__name__', '__package__', '__spec__', '__stderr__', '__stdin__', '__stdout__', '__unraisablehook__', '_base_executable', '_clear_type_cache', '_current_frames', '_debugmallocstats', '_enablelegacywindowsfsencoding', '_framework', '_getframe', '_git', '_home', '_xoptions', 'addaudithook', 'api_version', 'argv', 'audit', 'base_exec_prefix', 'base_prefix', 'breakpointhook', 'builtin_module_names', 'byteorder', 'call_tracing', 'callstats', 'copyright', 'displayhook', 'dllhandle', 'dont_write_bytecode', 'exc_info', 'excepthook', 'exec_prefix', 'executable', 'exit', 'flags', 'float_info', 'float_repr_style', 'get_asyncgen_hooks', 'get_coroutine_origin_tracking_depth', 'getallocatedblocks', 'getcheckinterval', 'getdefaultencoding', 'getfilesystemencodeerrors', 'getfilesystemencoding', 'getprofile', 'getrecursionlimit', 'getrefcount', 'getsizeof', 'getswitchinterval', 'gettrace', 'getwindowsversion', 'hash_info', 'hexversion', 'implementation', 'int_info', 'intern', 'is_finalizing', 'maxsize', 'maxunicode', 'meta_path', 'modules', 'path', 'path_hooks', 'path_importer_cache', 'platform', 'prefix', 'ps1', 'ps2', 'ps3', 'pycache_prefix', 'set_asyncgen_hooks', 'set_coroutine_origin_tracking_depth', 'setcheckinterval', 'setprofile', 'setrecursionlimit', 'setswitchinterval', 'settrace', 'stderr', 'stdin', 'stdout', 'thread_info', 'unraisablehook', 'version', 'version_info', 'warnoptions', 'winver'] \n",
      "\n"
     ]
    }
   ],
   "source": [
    "print('Объекты из модуля sys:\\n', dir(sys),'\\n') #список имен, определенных в модуле"
   ]
  },
  {
   "cell_type": "code",
   "execution_count": 40,
   "metadata": {},
   "outputs": [
    {
     "name": "stdout",
     "output_type": "stream",
     "text": [
      "3.8.3 (default, Jul  2 2020, 17:30:36) [MSC v.1916 64 bit (AMD64)]\n"
     ]
    }
   ],
   "source": [
    "print(sys.version) #доступ к объекту из пространства имен модуля"
   ]
  },
  {
   "cell_type": "markdown",
   "metadata": {},
   "source": [
    "Также можно исследовать содержание пространства имен модуля с помощью автодополнения:  \n",
    "`sys.<нажмите Tab>`\n",
    "\n",
    "![Автодополнение](pics/autocomplete.png)"
   ]
  },
  {
   "cell_type": "markdown",
   "metadata": {},
   "source": [
    "Если функция или константа были импортированы из модуля оператором `from ... import ...`, то они будут доступны просто по имени:"
   ]
  },
  {
   "cell_type": "code",
   "execution_count": 41,
   "metadata": {},
   "outputs": [
    {
     "name": "stdout",
     "output_type": "stream",
     "text": [
      "Число Пи = 3.141592653589793\n"
     ]
    }
   ],
   "source": [
    "print(\"Число Пи =\", pi) #доступ к объекту, импортированному в пространство имен текущего модуля"
   ]
  },
  {
   "cell_type": "markdown",
   "metadata": {},
   "source": [
    "При импорте с помощью `from` объекты добавляются в пространство имен текущего модуля и могут переопределить уже существующие в нем имена."
   ]
  },
  {
   "cell_type": "markdown",
   "metadata": {},
   "source": [
    "### Переименование модулей\n",
    "\n",
    "При частом доступе к объектам в пространстве имен модуля удобно, когда префикс, состоящий из имени модуля, имеет небольшую длину. Поэтому часто используемые модули при импорте переименовывают с помощью оператора `as`"
   ]
  },
  {
   "cell_type": "code",
   "execution_count": 42,
   "metadata": {},
   "outputs": [
    {
     "data": {
      "text/plain": [
       "array([0, 1, 2, 3, 4])"
      ]
     },
     "execution_count": 42,
     "metadata": {},
     "output_type": "execute_result"
    }
   ],
   "source": [
    "import numpy as np\n",
    "\n",
    "np.arange(5) #функция arange из модуля numpy (переименован в np)"
   ]
  },
  {
   "cell_type": "markdown",
   "metadata": {},
   "source": [
    "### Пакеты\n",
    "\n",
    "- _Пакеты_ (packages) - это способ организации модулей в библиотеки.\n",
    "- Пакеты соответствуют каталогам в файловой системе, в которых размещены файлы родственных модулей.\n",
    "- Пакеты могут включать подпакеты (subpackages), которые позволяют организовать иерархию в пространстве имен пакета.\n",
    "\n",
    "Например, разработчик пакета для работы со звуковыми файлами, может создать такую структуру:\n",
    "\n",
    "![Пакеты](pics/packages.png 'Структура каталогов пакета')\n",
    "\n",
    "Пользователи пакета смогут импортировать модуль для создания эффекта эхо, указав составное имя: `пакет.подпакет.модуль`\n",
    "```python\n",
    "import sound.effects.echo```\n",
    "\n",
    "Для Python разработано множество пакетов, решающих различные задачи. Глобальный каталог пакетов  - [Python Package Index](https://pypi.python.org/pypi)"
   ]
  },
  {
   "cell_type": "markdown",
   "metadata": {},
   "source": [
    "Наиболее часто используемые в научных вычислениях пакеты перечислены в таблице\n",
    "\n",
    "Модуль | Назначение\n",
    ":-|:-\n",
    "`numpy` | Работа с массивами данных\n",
    "`sympy` | Символьная математика (аналитическое вычисление/преобразование выражений)\n",
    "`pandas`| Обработка данных в табличной форме\n",
    "`matplotlib` | Библиотека для построения графиков\n",
    "`matplotlib.pyplot`| Набор функций для построения графиков в стиле Matlab\n",
    "`seaborn`| Надстройка над matplotlib, облегчающая визуализацию данных\n",
    "`scipy.optimize` | Методы оптимизации\n",
    "`scipy.integrate` | Численное интегрирование\n",
    "`scipy.stats` | Статистические функции\n",
    "`statsmodels` | Статистические модели\n",
    "`scikit-learn` | Модели машинного обучения\n",
    "\n",
    "Документация по двум ключевым пакетам научных вычислений - numpy и scipy доступна на сайте: http://scipy.org  \n",
    "Документация по pandas: https://pandas.pydata.org/  \n",
    "Документация по matplotlib: https://matplotlib.org/  \n",
    "Документация по seaborn: https://seaborn.pydata.org/  "
   ]
  },
  {
   "cell_type": "markdown",
   "metadata": {},
   "source": [
    "### Установка пакетов\n",
    "\n",
    "Если вы установили Anaconda Python, то, скорее всего у вас уже есть все необходимые для курса пакеты.\n",
    "Если все же какого-то пакета нет, его можно установить, используя менеджер пакетов `conda` из командной строки (Anaconda Prompt) или из блокнота:"
   ]
  },
  {
   "cell_type": "code",
   "execution_count": 43,
   "metadata": {},
   "outputs": [
    {
     "name": "stdout",
     "output_type": "stream",
     "text": [
      "Collecting package metadata (current_repodata.json): ...working... done\n",
      "Solving environment: ...working... done\n",
      "\n",
      "# All requested packages already installed.\n",
      "\n"
     ]
    }
   ],
   "source": [
    "!conda install graphviz"
   ]
  },
  {
   "cell_type": "markdown",
   "metadata": {},
   "source": [
    "Так можно посмотреть список всех установленных пакетов:"
   ]
  },
  {
   "cell_type": "code",
   "execution_count": 44,
   "metadata": {},
   "outputs": [
    {
     "name": "stdout",
     "output_type": "stream",
     "text": [
      "# packages in environment at C:\\Anaconda3:\n",
      "#\n",
      "# Name                    Version                   Build  Channel\n",
      "_anaconda_depends         2020.07                  py38_0  \n",
      "_ipyw_jlab_nb_ext_conf    0.1.0                    py38_0  \n",
      "alabaster                 0.7.12                     py_0  \n",
      "anaconda                  custom                   py38_1  \n",
      "anaconda-client           1.7.2                    py38_0  \n",
      "anaconda-navigator        1.9.12                   py38_0  \n",
      "anaconda-project          0.8.4                      py_0  \n",
      "argh                      0.26.2                   py38_0  \n",
      "argon2-cffi               20.1.0           py38he774522_1  \n",
      "asn1crypto                1.4.0                      py_0  \n",
      "astroid                   2.4.2                    py38_0  \n",
      "astropy                   4.0.1.post1      py38he774522_1  \n",
      "atomicwrites              1.4.0                      py_0  \n",
      "attrs                     20.1.0                     py_0  \n",
      "autopep8                  1.5.4                      py_0  \n",
      "babel                     2.8.0                      py_0  \n",
      "backcall                  0.2.0                      py_0  \n",
      "backports                 1.0                        py_2  \n",
      "backports.functools_lru_cache 1.6.1                      py_0  \n",
      "backports.shutil_get_terminal_size 1.0.0                    py38_2  \n",
      "backports.tempfile        1.0                        py_1  \n",
      "backports.weakref         1.0.post1                  py_1  \n",
      "bcrypt                    3.2.0            py38he774522_0  \n",
      "beautifulsoup4            4.9.1                    py38_0  \n",
      "bitarray                  1.5.3            py38he774522_0  \n",
      "bkcharts                  0.2                      py38_0  \n",
      "blas                      1.0                         mkl  \n",
      "bleach                    3.1.5                      py_0  \n",
      "blosc                     1.20.0               h7bd577a_0  \n",
      "bokeh                     2.2.1                    py38_0  \n",
      "boto                      2.49.0                   py38_0  \n",
      "bottleneck                1.3.2            py38h2a96729_1  \n",
      "brotlipy                  0.7.0           py38he774522_1000  \n",
      "bzip2                     1.0.8                he774522_0  \n",
      "ca-certificates           2020.7.22                     0  \n",
      "certifi                   2020.6.20                py38_0  \n",
      "cffi                      1.14.2           py38h7a1dbc1_0  \n",
      "chardet                   3.0.4                 py38_1003  \n",
      "click                     7.1.2                      py_0  \n",
      "cloudpickle               1.6.0                      py_0  \n",
      "clyent                    1.2.2                    py38_1  \n",
      "colorama                  0.4.3                      py_0  \n",
      "comtypes                  1.1.7                 py38_1001  \n",
      "conda                     4.8.4                    py38_0  \n",
      "conda-build               3.18.11                  py38_1  \n",
      "conda-env                 2.6.0                         1  \n",
      "conda-package-handling    1.6.1            py38h62dcd97_0  \n",
      "conda-verify              3.4.2                      py_1  \n",
      "console_shortcut          0.1.1                         4  \n",
      "contextlib2               0.6.0.post1                py_0  \n",
      "cryptography              3.1              py38h7a1dbc1_0  \n",
      "curl                      7.71.1               h2a8f88b_1  \n",
      "cycler                    0.10.0                   py38_0  \n",
      "cython                    0.29.21          py38ha925a31_0  \n",
      "cytoolz                   0.10.1           py38he774522_0  \n",
      "dask                      2.25.0                     py_0  \n",
      "dask-core                 2.25.0                     py_0  \n",
      "decorator                 4.4.2                      py_0  \n",
      "defusedxml                0.6.0                      py_0  \n",
      "diff-match-patch          20200713                   py_0  \n",
      "distributed               2.25.0                   py38_0  \n",
      "docutils                  0.16                     py38_1  \n",
      "entrypoints               0.3                      py38_0  \n",
      "et_xmlfile                1.0.1                   py_1001  \n",
      "fastcache                 1.1.0            py38he774522_0  \n",
      "filelock                  3.0.12                     py_0  \n",
      "flake8                    3.8.3                      py_0  \n",
      "flask                     1.1.2                      py_0  \n",
      "freetype                  2.10.2               hd328e21_0  \n",
      "fsspec                    0.8.0                      py_0  \n",
      "future                    0.18.2                   py38_1  \n",
      "get_terminal_size         1.0.0                h38e98db_0  \n",
      "gevent                    20.6.2           py38he774522_0  \n",
      "glob2                     0.7                        py_0  \n",
      "gmpy2                     2.0.8            py38h7edee0f_3  \n",
      "graphviz                  2.38                 hfd603c8_2  \n",
      "greenlet                  0.4.16           py38he774522_0  \n",
      "h5py                      2.10.0           py38h5e291fa_0  \n",
      "hdf5                      1.10.4               h7ebc959_0  \n",
      "heapdict                  1.0.1                      py_0  \n",
      "html5lib                  1.1                        py_0  \n",
      "icc_rt                    2019.0.0             h0cc432a_1  \n",
      "icu                       58.2                 ha925a31_3  \n",
      "idna                      2.10                       py_0  \n",
      "imageio                   2.9.0                      py_0  \n",
      "imagesize                 1.2.0                      py_0  \n",
      "importlib-metadata        1.7.0                    py38_0  \n",
      "importlib_metadata        1.7.0                         0  \n",
      "iniconfig                 1.0.1                      py_0  \n",
      "intel-openmp              2020.2                      254  \n",
      "intervaltree              3.1.0                      py_0  \n",
      "ipykernel                 5.3.4            py38h5ca1d4c_0  \n",
      "ipython                   7.18.1           py38h5ca1d4c_0  \n",
      "ipython_genutils          0.2.0                    py38_0  \n",
      "ipywidgets                7.5.1                      py_0  \n",
      "isort                     5.4.2                    py38_0  \n",
      "itsdangerous              1.1.0                      py_0  \n",
      "jdcal                     1.4.1                      py_0  \n",
      "jedi                      0.17.1                   py38_0  \n",
      "jinja2                    2.11.2                     py_0  \n",
      "joblib                    0.16.0                     py_0  \n",
      "jpeg                      9b                   hb83a4c4_2  \n",
      "json5                     0.9.5                      py_0  \n",
      "jsonschema                3.2.0                    py38_0  \n",
      "jupyter                   1.0.0                    py38_7  \n",
      "jupyter_client            6.1.6                      py_0  \n",
      "jupyter_console           6.2.0                      py_0  \n",
      "jupyter_core              4.6.3                    py38_0  \n",
      "jupyterlab                2.2.6                      py_0  \n",
      "jupyterlab_server         1.2.0                      py_0  \n",
      "keyring                   21.4.0                   py38_0  \n",
      "kiwisolver                1.2.0            py38h74a9793_0  \n",
      "krb5                      1.18.2               hc04afaa_0  \n",
      "lazy-object-proxy         1.4.3            py38he774522_0  \n",
      "libarchive                3.4.2                h5e25573_0  \n",
      "libcurl                   7.71.1               h2a8f88b_1  \n",
      "libiconv                  1.15                 h1df5818_7  \n",
      "liblief                   0.10.1               ha925a31_0  \n",
      "libllvm9                  9.0.1                h21ff451_0  \n",
      "libpng                    1.6.37               h2a8f88b_0  \n",
      "libsodium                 1.0.18               h62dcd97_0  \n",
      "libspatialindex           1.9.3                h33f27b4_0  \n",
      "libssh2                   1.9.0                h7a1dbc1_1  \n",
      "libtiff                   4.1.0                h56a325e_1  \n",
      "libxml2                   2.9.10               h464c3ec_1  \n",
      "libxslt                   1.1.34               he774522_0  \n",
      "llvmlite                  0.33.0           py38ha925a31_0  \n",
      "locket                    0.2.0                    py38_1  \n",
      "lxml                      4.5.2            py38h1350720_0  \n",
      "lz4-c                     1.9.2                h62dcd97_1  \n",
      "lzo                       2.10                 he774522_2  \n",
      "m2w64-gcc-libgfortran     5.3.0                         6  \n",
      "m2w64-gcc-libs            5.3.0                         7  \n",
      "m2w64-gcc-libs-core       5.3.0                         7  \n",
      "m2w64-gmp                 6.1.0                         2  \n",
      "m2w64-libwinpthread-git   5.0.0.4634.697f757               2  \n",
      "markupsafe                1.1.1            py38he774522_0  \n",
      "matplotlib                3.3.1                         0  \n",
      "matplotlib-base           3.3.1            py38hba9282a_0  \n",
      "mccabe                    0.6.1                    py38_1  \n",
      "menuinst                  1.4.16           py38he774522_1  \n",
      "mistune                   0.8.4           py38he774522_1000  \n",
      "mkl                       2020.2                      256  \n",
      "mkl-service               2.3.0            py38hb782905_0  \n",
      "mkl_fft                   1.1.0            py38h45dec08_0  \n",
      "mkl_random                1.1.1            py38h47e9c7a_0  \n",
      "mock                      4.0.2                      py_0  \n",
      "more-itertools            8.5.0                      py_0  \n",
      "mpc                       1.1.0                h7edee0f_1  \n",
      "mpfr                      4.0.2                h62dcd97_1  \n",
      "mpir                      3.0.0                hec2e145_1  \n",
      "mpmath                    1.1.0                    py38_0  \n",
      "msgpack-python            1.0.0            py38h74a9793_1  \n",
      "msys2-conda-epoch         20160418                      1  \n",
      "multipledispatch          0.6.0                    py38_0  \n",
      "navigator-updater         0.2.1                    py38_0  \n",
      "nbconvert                 5.6.1                    py38_0  \n",
      "nbformat                  5.0.7                      py_0  \n",
      "networkx                  2.5                        py_0  \n",
      "nltk                      3.5                        py_0  \n",
      "nose                      1.3.7                    py38_2  \n",
      "notebook                  6.1.1                    py38_0  \n",
      "numba                     0.50.1           py38h47e9c7a_0  \n",
      "numexpr                   2.7.1            py38h25d0782_0  \n",
      "numpy                     1.19.1           py38h5510c5b_0  \n",
      "numpy-base                1.19.1           py38ha3acd2a_0  \n",
      "numpydoc                  1.1.0                      py_0  \n",
      "olefile                   0.46                       py_0  \n",
      "openpyxl                  3.0.5                      py_0  \n",
      "openssl                   1.1.1g               he774522_1  \n",
      "packaging                 20.4                       py_0  \n",
      "pandas                    1.1.1            py38ha925a31_0  \n",
      "pandoc                    2.10.1                        0  \n",
      "pandocfilters             1.4.2                    py38_1  \n",
      "paramiko                  2.7.2                      py_0  \n",
      "parso                     0.7.0                      py_0  \n",
      "partd                     1.1.0                      py_0  \n",
      "path                      15.0.0                   py38_0  \n",
      "path.py                   12.5.0                        0  \n",
      "pathlib2                  2.3.5                    py38_0  \n",
      "pathtools                 0.1.2                      py_1  \n",
      "patsy                     0.5.1                    py38_0  \n",
      "pep8                      1.7.1                    py38_0  \n",
      "pexpect                   4.8.0                    py38_0  \n",
      "pickleshare               0.7.5                 py38_1000  \n",
      "pillow                    7.2.0            py38hcc1f983_0  \n",
      "pip                       20.2.2                   py38_0  \n",
      "pkginfo                   1.5.0.1                  py38_0  \n",
      "pluggy                    0.13.1                   py38_0  \n",
      "ply                       3.11                     py38_0  \n"
     ]
    }
   ],
   "source": [
    "!conda list"
   ]
  },
  {
   "cell_type": "markdown",
   "metadata": {},
   "source": [
    "[Здесь](https://alstutor.work/pdfs/conda-cheatsheet.pdf) можно почитать, что еще умеет `conda`"
   ]
  },
  {
   "cell_type": "markdown",
   "metadata": {},
   "source": [
    "Если `conda` не находит нужный пакет, или если вы используете другой дистрибутив Python, то можно использовать менеджер пакетов `pip`. "
   ]
  },
  {
   "cell_type": "code",
   "execution_count": 45,
   "metadata": {},
   "outputs": [
    {
     "name": "stdout",
     "output_type": "stream",
     "text": [
      "powershell_shortcut       0.0.1                         3  \n",
      "prometheus_client         0.8.0                      py_0  \n",
      "prompt-toolkit            3.0.7                      py_0  \n",
      "prompt_toolkit            3.0.7                         0  \n",
      "psutil                    5.7.2            py38he774522_0  \n",
      "py                        1.9.0                      py_0  \n",
      "py-lief                   0.10.1           py38ha925a31_0  \n",
      "pycodestyle               2.6.0                      py_0  \n",
      "pycosat                   0.6.3            py38he774522_0  \n",
      "pycparser                 2.20                       py_2  \n",
      "pycurl                    7.43.0.5         py38h7a1dbc1_0  \n",
      "pydocstyle                5.1.1                      py_0  \n",
      "pyflakes                  2.2.0                      py_0  \n",
      "pygments                  2.6.1                      py_0  \n",
      "pylint                    2.6.0                    py38_0  \n",
      "pynacl                    1.4.0            py38h62dcd97_1  \n",
      "pyodbc                    4.0.30           py38ha925a31_0  \n",
      "pyopenssl                 19.1.0                     py_1  \n",
      "pyparsing                 2.4.7                      py_0  \n",
      "pyqt                      5.9.2            py38ha925a31_4  \n",
      "pyreadline                2.1                      py38_1  \n",
      "pyrsistent                0.16.0           py38he774522_0  \n",
      "pysocks                   1.7.1                    py38_0  \n",
      "pytables                  3.6.1            py38ha5be198_0  \n",
      "pytest                    6.0.1                    py38_0  \n",
      "python                    3.8.3                he1778fa_2  \n",
      "python-dateutil           2.8.1                      py_0  \n",
      "python-jsonrpc-server     0.3.4                      py_1  \n",
      "python-language-server    0.34.1                   py38_0  \n",
      "python-libarchive-c       2.9                        py_0  \n",
      "pytz                      2020.1                     py_0  \n",
      "pywavelets                1.1.1            py38he774522_0  \n",
      "pywin32                   227              py38he774522_1  \n",
      "pywin32-ctypes            0.2.0                 py38_1000  \n",
      "pywinpty                  0.5.7                    py38_0  \n",
      "pyyaml                    5.3.1            py38he774522_1  \n",
      "pyzmq                     19.0.1           py38ha925a31_1  \n",
      "qdarkstyle                2.8.1                      py_0  \n",
      "qt                        5.9.7            vc14h73c81de_0  \n",
      "qtawesome                 0.7.2                      py_0  \n",
      "qtconsole                 4.7.6                      py_0  \n",
      "qtpy                      1.9.0                      py_0  \n",
      "regex                     2020.7.14        py38he774522_0  \n",
      "requests                  2.24.0                     py_0  \n",
      "rope                      0.17.0                     py_0  \n",
      "rtree                     0.9.4            py38h21ff451_1  \n",
      "ruamel_yaml               0.15.87          py38he774522_1  \n",
      "scikit-image              0.16.2           py38h47e9c7a_0  \n",
      "scikit-learn              0.23.2           py38h47e9c7a_0  \n",
      "scipy                     1.5.0            py38h9439919_0  \n",
      "seaborn                   0.10.1                     py_0  \n",
      "send2trash                1.5.0                    py38_0  \n",
      "setuptools                49.6.0                   py38_0  \n",
      "simplegeneric             0.8.1                    py38_2  \n",
      "singledispatch            3.4.0.3                  py38_0  \n",
      "sip                       4.19.13          py38ha925a31_0  \n",
      "six                       1.15.0                     py_0  \n",
      "snappy                    1.1.8                h33f27b4_0  \n",
      "snowballstemmer           2.0.0                      py_0  \n",
      "sortedcollections         1.2.1                      py_0  \n",
      "sortedcontainers          2.2.2                      py_0  \n",
      "soupsieve                 2.0.1                      py_0  \n",
      "sphinx                    3.2.1                      py_0  \n",
      "sphinxcontrib             1.0                      py38_1  \n",
      "sphinxcontrib-applehelp   1.0.2                      py_0  \n",
      "sphinxcontrib-devhelp     1.0.2                      py_0  \n",
      "sphinxcontrib-htmlhelp    1.0.3                      py_0  \n",
      "sphinxcontrib-jsmath      1.0.1                      py_0  \n",
      "sphinxcontrib-qthelp      1.0.3                      py_0  \n",
      "sphinxcontrib-serializinghtml 1.1.4                      py_0  \n",
      "sphinxcontrib-websupport  1.2.4                      py_0  \n",
      "spyder                    4.1.5                    py38_0  \n",
      "spyder-kernels            1.9.4                    py38_0  \n",
      "sqlalchemy                1.3.19           py38he774522_0  \n",
      "sqlite                    3.33.0               h2a8f88b_0  \n",
      "statsmodels               0.11.1           py38he774522_0  \n",
      "sympy                     1.6.2                    py38_0  \n",
      "tbb                       2020.2               h74a9793_0  \n",
      "tblib                     1.7.0                      py_0  \n",
      "terminado                 0.8.3                    py38_0  \n",
      "testpath                  0.4.4                      py_0  \n",
      "threadpoolctl             2.1.0              pyh5ca1d4c_0  \n",
      "tk                        8.6.10               he774522_0  \n",
      "toml                      0.10.1                     py_0  \n",
      "toolz                     0.10.0                     py_0  \n",
      "tornado                   6.0.4            py38he774522_1  \n",
      "tqdm                      4.48.2                     py_0  \n",
      "traitlets                 4.3.3                    py38_0  \n",
      "typing_extensions         3.7.4.3                    py_0  \n",
      "ujson                     1.35             py38he774522_0  \n",
      "unicodecsv                0.14.1                   py38_0  \n",
      "urllib3                   1.25.10                    py_0  \n",
      "vc                        14.1                 h0510ff6_4  \n",
      "vs2015_runtime            14.16.27012          hf0eaf9b_3  \n",
      "watchdog                  0.10.3                   py38_0  \n",
      "wcwidth                   0.2.5                      py_0  \n",
      "webencodings              0.5.1                    py38_1  \n",
      "werkzeug                  1.0.1                      py_0  \n",
      "wheel                     0.35.1                     py_0  \n",
      "widgetsnbextension        3.5.1                    py38_0  \n",
      "win_inet_pton             1.1.0                    py38_0  \n",
      "win_unicode_console       0.5                      py38_0  \n",
      "wincertstore              0.2                      py38_0  \n",
      "winpty                    0.4.3                         4  \n",
      "wrapt                     1.11.2           py38he774522_0  \n",
      "xlrd                      1.2.0                      py_0  \n",
      "xlsxwriter                1.3.3                      py_0  \n",
      "xlwings                   0.20.5                   py38_0  \n",
      "xlwt                      1.3.0                    py38_0  \n",
      "xmltodict                 0.12.0                     py_0  \n",
      "xz                        5.2.5                h62dcd97_0  \n",
      "yaml                      0.2.5                he774522_0  \n",
      "yapf                      0.30.0                     py_0  \n",
      "zeromq                    4.3.2                ha925a31_2  \n",
      "zict                      2.0.0                      py_0  \n",
      "zipp                      3.1.0                      py_0  \n",
      "zlib                      1.2.11               h62dcd97_4  \n",
      "zope                      1.0                      py38_1  \n",
      "zope.event                4.4                      py38_0  \n",
      "zope.interface            5.1.0            py38he774522_0  \n",
      "zstd                      1.4.5                h04227a9_0  \n",
      "Package                            Version\n",
      "---------------------------------- -------------------\n",
      "alabaster                          0.7.12\n",
      "anaconda-client                    1.7.2\n",
      "anaconda-navigator                 1.9.12\n",
      "anaconda-project                   0.8.3\n",
      "argh                               0.26.2\n",
      "argon2-cffi                        20.1.0\n",
      "asn1crypto                         1.4.0\n",
      "astroid                            2.4.2\n",
      "astropy                            4.0.1.post1\n",
      "atomicwrites                       1.4.0\n",
      "attrs                              20.1.0\n",
      "autopep8                           1.5.4\n",
      "Babel                              2.8.0\n",
      "backcall                           0.2.0\n",
      "backports.functools-lru-cache      1.6.1\n",
      "backports.shutil-get-terminal-size 1.0.0\n",
      "backports.tempfile                 1.0\n",
      "backports.weakref                  1.0.post1\n",
      "bcrypt                             3.2.0\n",
      "beautifulsoup4                     4.9.1\n",
      "bitarray                           1.5.3\n",
      "bkcharts                           0.2\n",
      "bleach                             3.1.5\n",
      "bokeh                              2.2.1\n",
      "boto                               2.49.0\n",
      "Bottleneck                         1.3.2\n",
      "brotlipy                           0.7.0\n",
      "certifi                            2020.6.20\n",
      "cffi                               1.14.2\n",
      "chardet                            3.0.4\n",
      "click                              7.1.2\n",
      "cloudpickle                        1.6.0\n",
      "clyent                             1.2.2\n",
      "colorama                           0.4.3\n",
      "comtypes                           1.1.7\n",
      "conda                              4.8.4\n",
      "conda-build                        3.18.11\n",
      "conda-package-handling             1.7.0\n",
      "conda-verify                       3.4.2\n",
      "contextlib2                        0.6.0.post1\n",
      "cryptography                       3.1\n",
      "cycler                             0.10.0\n",
      "Cython                             0.29.21\n",
      "cytoolz                            0.10.1\n",
      "dask                               2.25.0\n",
      "decorator                          4.4.2\n"
     ]
    },
    {
     "name": "stdout",
     "output_type": "stream",
     "text": [
      "defusedxml                         0.6.0\n",
      "diff-match-patch                   20200713\n",
      "distributed                        2.25.0\n",
      "docutils                           0.16\n",
      "entrypoints                        0.3\n",
      "et-xmlfile                         1.0.1\n",
      "fastcache                          1.1.0\n",
      "filelock                           3.0.12\n",
      "flake8                             3.8.3\n",
      "Flask                              1.1.2\n",
      "fsspec                             0.8.0\n",
      "future                             0.18.2\n",
      "gevent                             20.6.2\n",
      "glob2                              0.7\n",
      "gmpy2                              2.0.8\n",
      "greenlet                           0.4.16\n",
      "h5py                               2.10.0\n",
      "HeapDict                           1.0.1\n",
      "html5lib                           1.1\n",
      "idna                               2.10\n",
      "imageio                            2.9.0\n",
      "imagesize                          1.2.0\n",
      "importlib-metadata                 1.7.0\n",
      "iniconfig                          0.0.0\n",
      "intervaltree                       3.1.0\n",
      "ipykernel                          5.3.4\n",
      "ipython                            7.18.1\n",
      "ipython-genutils                   0.2.0\n",
      "ipywidgets                         7.5.1\n",
      "isort                              5.4.2\n",
      "itsdangerous                       1.1.0\n",
      "jdcal                              1.4.1\n",
      "jedi                               0.17.1\n",
      "Jinja2                             2.11.2\n",
      "joblib                             0.16.0\n",
      "json5                              0.9.5\n",
      "jsonschema                         3.2.0\n",
      "jupyter                            1.0.0\n",
      "jupyter-client                     6.1.6\n",
      "jupyter-console                    6.2.0\n",
      "jupyter-core                       4.6.3\n",
      "jupyterlab                         2.2.6\n",
      "jupyterlab-server                  1.2.0\n",
      "keyring                            21.4.0\n",
      "kiwisolver                         1.2.0\n",
      "lazy-object-proxy                  1.4.3\n",
      "libarchive-c                       2.9\n",
      "llvmlite                           0.33.0+1.g022ab0f\n",
      "locket                             0.2.0\n",
      "lxml                               4.5.2\n",
      "MarkupSafe                         1.1.1\n",
      "matplotlib                         3.3.1\n",
      "mccabe                             0.6.1\n",
      "menuinst                           1.4.16\n",
      "mistune                            0.8.4\n",
      "mkl-fft                            1.1.0\n",
      "mkl-random                         1.1.1\n",
      "mkl-service                        2.3.0\n",
      "mock                               4.0.2\n",
      "more-itertools                     8.5.0\n",
      "mpmath                             1.1.0\n",
      "msgpack                            1.0.0\n",
      "multipledispatch                   0.6.0\n",
      "navigator-updater                  0.2.1\n",
      "nbconvert                          5.6.1\n",
      "nbformat                           5.0.7\n",
      "networkx                           2.5\n",
      "nltk                               3.5\n",
      "nose                               1.3.7\n",
      "notebook                           6.1.1\n",
      "numba                              0.50.1\n",
      "numexpr                            2.7.1\n",
      "numpy                              1.19.1\n",
      "numpydoc                           1.1.0\n",
      "olefile                            0.46\n",
      "openpyxl                           3.0.5\n",
      "packaging                          20.4\n",
      "pandas                             1.1.1\n",
      "pandocfilters                      1.4.2\n",
      "paramiko                           2.7.2\n",
      "parso                              0.7.0\n",
      "partd                              1.1.0\n",
      "path                               15.0.0\n",
      "pathlib2                           2.3.5\n",
      "pathtools                          0.1.2\n",
      "patsy                              0.5.1\n",
      "pep8                               1.7.1\n",
      "pexpect                            4.8.0\n",
      "pickleshare                        0.7.5\n",
      "Pillow                             7.2.0\n",
      "pip                                20.2.2\n",
      "pkginfo                            1.5.0.1\n",
      "pluggy                             0.13.1\n",
      "ply                                3.11\n",
      "prometheus-client                  0.8.0\n",
      "prompt-toolkit                     3.0.7\n",
      "psutil                             5.7.2\n",
      "py                                 1.9.0\n",
      "pycodestyle                        2.6.0\n",
      "pycosat                            0.6.3\n",
      "pycparser                          2.20\n",
      "pycurl                             7.43.0.5\n",
      "pydocstyle                         5.1.1\n",
      "pyflakes                           2.2.0\n",
      "Pygments                           2.6.1\n",
      "pylint                             2.6.0\n",
      "PyNaCl                             1.4.0\n",
      "pyodbc                             4.0.0-unsupported\n",
      "pyOpenSSL                          19.1.0\n",
      "pyparsing                          2.4.7\n",
      "pyreadline                         2.1\n",
      "pyrsistent                         0.16.0\n",
      "PySocks                            1.7.1\n",
      "pytest                             6.0.1\n",
      "python-dateutil                    2.8.1\n",
      "python-jsonrpc-server              0.3.4\n",
      "python-language-server             0.34.1\n",
      "pytz                               2020.1\n",
      "PyWavelets                         1.1.1\n",
      "pywin32                            227\n",
      "pywin32-ctypes                     0.2.0\n",
      "pywinpty                           0.5.7\n",
      "PyYAML                             5.3.1\n",
      "pyzmq                              19.0.1\n",
      "QDarkStyle                         2.8.1\n",
      "QtAwesome                          0.7.2\n",
      "qtconsole                          4.7.6\n",
      "QtPy                               1.9.0\n",
      "regex                              2020.7.14\n",
      "requests                           2.24.0\n",
      "rope                               0.17.0\n",
      "Rtree                              0.9.4\n",
      "ruamel-yaml                        0.15.87\n",
      "scikit-image                       0.16.2\n",
      "scikit-learn                       0.23.2\n",
      "scipy                              1.5.0\n",
      "seaborn                            0.10.1\n",
      "Send2Trash                         1.5.0\n",
      "setuptools                         49.6.0.post20200814\n",
      "simplegeneric                      0.8.1\n",
      "singledispatch                     3.4.0.3\n",
      "sip                                4.19.13\n",
      "six                                1.15.0\n",
      "snowballstemmer                    2.0.0\n",
      "sortedcollections                  1.2.1\n",
      "sortedcontainers                   2.2.2\n",
      "soupsieve                          2.0.1\n",
      "Sphinx                             3.2.1\n",
      "sphinxcontrib-applehelp            1.0.2\n",
      "sphinxcontrib-devhelp              1.0.2\n",
      "sphinxcontrib-htmlhelp             1.0.3\n",
      "sphinxcontrib-jsmath               1.0.1\n",
      "sphinxcontrib-qthelp               1.0.3\n",
      "sphinxcontrib-serializinghtml      1.1.4\n",
      "sphinxcontrib-websupport           1.2.4\n",
      "spyder                             4.1.5\n",
      "spyder-kernels                     1.9.4\n",
      "SQLAlchemy                         1.3.19\n",
      "statsmodels                        0.11.1\n",
      "sympy                              1.6.2\n",
      "tables                             3.6.1\n",
      "tblib                              1.7.0\n",
      "terminado                          0.8.3\n",
      "testpath                           0.4.4\n",
      "threadpoolctl                      2.1.0\n",
      "toml                               0.10.1\n",
      "toolz                              0.10.0\n",
      "tornado                            6.0.4\n",
      "tqdm                               4.48.2\n",
      "traitlets                          4.3.3\n",
      "typing-extensions                  3.7.4.3\n",
      "ujson                              1.35\n",
      "unicodecsv                         0.14.1\n",
      "urllib3                            1.25.10\n",
      "watchdog                           0.10.3\n",
      "wcwidth                            0.2.5\n",
      "webencodings                       0.5.1\n",
      "Werkzeug                           1.0.1\n",
      "wheel                              0.35.1\n",
      "widgetsnbextension                 3.5.1\n",
      "win-inet-pton                      1.1.0\n",
      "win-unicode-console                0.5\n",
      "wincertstore                       0.2\n",
      "wrapt                              1.11.2\n",
      "xlrd                               1.2.0\n",
      "XlsxWriter                         1.3.3\n",
      "xlwings                            0.20.5\n",
      "xlwt                               1.3.0\n",
      "xmltodict                          0.12.0\n",
      "yapf                               0.30.0\n",
      "zict                               2.0.0\n",
      "zipp                               3.1.0\n",
      "zope.event                         4.4\n",
      "zope.interface                     5.1.0\n"
     ]
    }
   ],
   "source": [
    "!pip list"
   ]
  },
  {
   "cell_type": "markdown",
   "metadata": {},
   "source": [
    "Примеры использования `pip` [здесь](https://pythonworld.ru/osnovy/pip.html)."
   ]
  }
 ],
 "metadata": {
  "hide_input": false,
  "kernelspec": {
   "display_name": "Python 3",
   "language": "python",
   "name": "python3"
  },
  "language_info": {
   "codemirror_mode": {
    "name": "ipython",
    "version": 3
   },
   "file_extension": ".py",
   "mimetype": "text/x-python",
   "name": "python",
   "nbconvert_exporter": "python",
   "pygments_lexer": "ipython3",
   "version": "3.8.3"
  },
  "latex_envs": {
   "bibliofile": "biblio.bib",
   "cite_by": "apalike",
   "current_citInitial": 1,
   "eqLabelWithNumbers": true,
   "eqNumInitial": 0
  },
  "toc": {
   "nav_menu": {},
   "number_sections": false,
   "sideBar": true,
   "skip_h1_title": false,
   "toc_cell": false,
   "toc_position": {},
   "toc_section_display": "block",
   "toc_window_display": false
  },
  "varInspector": {
   "cols": {
    "lenName": 16,
    "lenType": 16,
    "lenVar": 40
   },
   "kernels_config": {
    "python": {
     "delete_cmd_postfix": "",
     "delete_cmd_prefix": "del ",
     "library": "var_list.py",
     "varRefreshCmd": "print(var_dic_list())"
    },
    "r": {
     "delete_cmd_postfix": ") ",
     "delete_cmd_prefix": "rm(",
     "library": "var_list.r",
     "varRefreshCmd": "cat(var_dic_list()) "
    }
   },
   "types_to_exclude": [
    "module",
    "function",
    "builtin_function_or_method",
    "instance",
    "_Feature"
   ],
   "window_display": false
  }
 },
 "nbformat": 4,
 "nbformat_minor": 1
}
