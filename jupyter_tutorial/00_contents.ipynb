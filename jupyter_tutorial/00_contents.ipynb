{
 "cells": [
  {
   "cell_type": "markdown",
   "metadata": {},
   "source": [
    "# Основы работы с Python и Jupyter Notebook"
   ]
  },
  {
   "cell_type": "markdown",
   "metadata": {},
   "source": [
    "## Содержание\n",
    "\n",
    "1. [Структура блокнота](01_notebook.ipynb)\n",
    "1. [Набор текста и формул](02_markdown.ipynb) - [Видео про оформление текста и вставку картинок](https://www.youtube.com/watch?v=LLFOZ2vN7ss), [Видео про набор формул](https://www.youtube.com/watch?v=vSc25kdgecg)\n",
    "1. [Волшебные команды](03_magics.ipynb) [Видео](https://www.youtube.com/watch?v=bGe7HQCglQc)\n",
    "1. [Вычисления: переменные, функции, модули и пакеты](04_calculation.ipynb)\n",
    "1. [Самые необходимые типы данных](05_datatypes.ipynb)\n",
    "1. [Управление потоком вычислений: условия, циклы, обработка списков](06_flow_control.ipynb)\n",
    "1. [Numpy](07_numpy.ipynb)\n",
    "1. [Рисование графиков с помощью matplotlib](08_basic_plotting.ipynb) [Видео](https://www.youtube.com/watch?v=Airdzeoorsg)\n"
   ]
  },
  {
   "cell_type": "markdown",
   "metadata": {},
   "source": [
    "[Сравнение популярности Python и систем для научных вычислений](https://www.google.com/trends/explore#q=python%20-monty%20-snake%20-reptile%20-django%20-ball%2C%20%2Fm%2F053_x%2C%20Mathcad%2C%20Mathematica%2C%20Maple%20software&cmpt=q&tz=Etc%2FGMT-3)\n",
    "\n",
    "\n",
    "Рекомендованные ресурсы:\n",
    "\n",
    "1. Маккини, Уэс [Python и анализ данных](http://dmkpress.com/catalog/computer/programming/python/978-5-97060-315-4/)\n",
    "\n",
    "1. VanderPlas, Jake [Python Data Science Handbook](https://jakevdp.github.io/PythonDataScienceHandbook/)\n",
    "\n",
    "1. [Шпаргалки по Python для Data Science](https://www.datacamp.com/community/data-science-cheatsheets)\n",
    "\n",
    "1. Шабанов П.А. [Научная графика в Python](https://github.com/whitehorn/Scientific_graphics_in_python) - учебник по matplotlib на русском\n",
    "\n",
    "1. Примеры графиков с исходным кодом: [Matplotlib plot gallery](http://matplotlib.org/gallery.html)\n",
    "\n",
    "1. Вводный курс по Matplotlib Nicolas P. Rougier: [Matplotlib Tutorial](http://www.labri.fr/perso/nrougier/teaching/matplotlib/matplotlib.html)\n",
    "\n",
    "1. Nicolas P. Rougier [Ten simple rules for better figures](http://journals.plos.org/ploscompbiol/article?id=10.1371/journal.pcbi.1003833)\n",
    "\n",
    "1. [Руководство по использованию Python в инженерных/научных расчетах](http://www.scipy-lectures.org/)"
   ]
  }
 ],
 "metadata": {
  "hide_input": false,
  "kernelspec": {
   "display_name": "Python 3",
   "language": "python",
   "name": "python3"
  },
  "language_info": {
   "codemirror_mode": {
    "name": "ipython",
    "version": 3
   },
   "file_extension": ".py",
   "mimetype": "text/x-python",
   "name": "python",
   "nbconvert_exporter": "python",
   "pygments_lexer": "ipython3",
   "version": "3.8.3"
  },
  "latex_envs": {
   "bibliofile": "biblio.bib",
   "cite_by": "apalike",
   "current_citInitial": 1,
   "eqLabelWithNumbers": true,
   "eqNumInitial": 0
  },
  "toc": {
   "nav_menu": {},
   "number_sections": false,
   "sideBar": true,
   "skip_h1_title": false,
   "toc_cell": false,
   "toc_position": {},
   "toc_section_display": "block",
   "toc_window_display": false
  },
  "varInspector": {
   "cols": {
    "lenName": 16,
    "lenType": 16,
    "lenVar": 40
   },
   "kernels_config": {
    "python": {
     "delete_cmd_postfix": "",
     "delete_cmd_prefix": "del ",
     "library": "var_list.py",
     "varRefreshCmd": "print(var_dic_list())"
    },
    "r": {
     "delete_cmd_postfix": ") ",
     "delete_cmd_prefix": "rm(",
     "library": "var_list.r",
     "varRefreshCmd": "cat(var_dic_list()) "
    }
   },
   "types_to_exclude": [
    "module",
    "function",
    "builtin_function_or_method",
    "instance",
    "_Feature"
   ],
   "window_display": false
  }
 },
 "nbformat": 4,
 "nbformat_minor": 1
}
