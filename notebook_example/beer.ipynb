{
 "cells": [
  {
   "cell_type": "markdown",
   "metadata": {},
   "source": [
    "# Отчет по запасам и продажам (пример блокнота)"
   ]
  },
  {
   "cell_type": "markdown",
   "metadata": {},
   "source": [
    "## Подготовка и загрузка данных"
   ]
  },
  {
   "cell_type": "markdown",
   "metadata": {},
   "source": [
    "Загружаем необходимые библиотеки и настраиваем блокнот"
   ]
  },
  {
   "cell_type": "code",
   "execution_count": 1,
   "metadata": {},
   "outputs": [],
   "source": [
    "import pandas as pd # обработка табличных данных\n",
    "import matplotlib.pyplot as plt # построение графиков\n",
    "import seaborn as sns # разведочный анализ\n",
    "%matplotlib inline \n",
    "# графики будут встраиваться в блокнот"
   ]
  },
  {
   "cell_type": "markdown",
   "metadata": {},
   "source": [
    "Загружаем данные по запасам"
   ]
  },
  {
   "cell_type": "code",
   "execution_count": 2,
   "metadata": {},
   "outputs": [
    {
     "data": {
      "text/html": [
       "<div>\n",
       "<style scoped>\n",
       "    .dataframe tbody tr th:only-of-type {\n",
       "        vertical-align: middle;\n",
       "    }\n",
       "\n",
       "    .dataframe tbody tr th {\n",
       "        vertical-align: top;\n",
       "    }\n",
       "\n",
       "    .dataframe thead th {\n",
       "        text-align: right;\n",
       "    }\n",
       "</style>\n",
       "<table border=\"1\" class=\"dataframe\">\n",
       "  <thead>\n",
       "    <tr style=\"text-align: right;\">\n",
       "      <th></th>\n",
       "      <th>date</th>\n",
       "      <th>good_id</th>\n",
       "      <th>shop_id</th>\n",
       "      <th>supplier_id</th>\n",
       "      <th>quantity</th>\n",
       "      <th>avg_price</th>\n",
       "      <th>sup_stock</th>\n",
       "      <th>sale_price</th>\n",
       "      <th>sale_quantity</th>\n",
       "      <th>sale_amount</th>\n",
       "      <th>sale_sup</th>\n",
       "    </tr>\n",
       "  </thead>\n",
       "  <tbody>\n",
       "    <tr>\n",
       "      <th>0</th>\n",
       "      <td>2004-05-01</td>\n",
       "      <td>8090100003</td>\n",
       "      <td>100</td>\n",
       "      <td>1019</td>\n",
       "      <td>61</td>\n",
       "      <td>13.3</td>\n",
       "      <td>811.3</td>\n",
       "      <td>17.96</td>\n",
       "      <td>0</td>\n",
       "      <td>0.0</td>\n",
       "      <td>0.0</td>\n",
       "    </tr>\n",
       "    <tr>\n",
       "      <th>1</th>\n",
       "      <td>2004-05-02</td>\n",
       "      <td>8090100003</td>\n",
       "      <td>100</td>\n",
       "      <td>1019</td>\n",
       "      <td>61</td>\n",
       "      <td>13.3</td>\n",
       "      <td>811.3</td>\n",
       "      <td>17.96</td>\n",
       "      <td>0</td>\n",
       "      <td>0.0</td>\n",
       "      <td>0.0</td>\n",
       "    </tr>\n",
       "    <tr>\n",
       "      <th>2</th>\n",
       "      <td>2004-05-03</td>\n",
       "      <td>8090100003</td>\n",
       "      <td>100</td>\n",
       "      <td>1019</td>\n",
       "      <td>61</td>\n",
       "      <td>13.3</td>\n",
       "      <td>811.3</td>\n",
       "      <td>17.96</td>\n",
       "      <td>0</td>\n",
       "      <td>0.0</td>\n",
       "      <td>0.0</td>\n",
       "    </tr>\n",
       "    <tr>\n",
       "      <th>3</th>\n",
       "      <td>2004-05-04</td>\n",
       "      <td>8090100003</td>\n",
       "      <td>100</td>\n",
       "      <td>1019</td>\n",
       "      <td>61</td>\n",
       "      <td>13.3</td>\n",
       "      <td>811.3</td>\n",
       "      <td>17.96</td>\n",
       "      <td>0</td>\n",
       "      <td>0.0</td>\n",
       "      <td>0.0</td>\n",
       "    </tr>\n",
       "    <tr>\n",
       "      <th>4</th>\n",
       "      <td>2004-05-05</td>\n",
       "      <td>8090100003</td>\n",
       "      <td>100</td>\n",
       "      <td>1019</td>\n",
       "      <td>61</td>\n",
       "      <td>13.3</td>\n",
       "      <td>811.3</td>\n",
       "      <td>17.96</td>\n",
       "      <td>0</td>\n",
       "      <td>0.0</td>\n",
       "      <td>0.0</td>\n",
       "    </tr>\n",
       "  </tbody>\n",
       "</table>\n",
       "</div>"
      ],
      "text/plain": [
       "         date     good_id  shop_id  supplier_id  quantity  avg_price  \\\n",
       "0  2004-05-01  8090100003      100         1019        61       13.3   \n",
       "1  2004-05-02  8090100003      100         1019        61       13.3   \n",
       "2  2004-05-03  8090100003      100         1019        61       13.3   \n",
       "3  2004-05-04  8090100003      100         1019        61       13.3   \n",
       "4  2004-05-05  8090100003      100         1019        61       13.3   \n",
       "\n",
       "   sup_stock  sale_price  sale_quantity  sale_amount  sale_sup  \n",
       "0      811.3       17.96              0          0.0       0.0  \n",
       "1      811.3       17.96              0          0.0       0.0  \n",
       "2      811.3       17.96              0          0.0       0.0  \n",
       "3      811.3       17.96              0          0.0       0.0  \n",
       "4      811.3       17.96              0          0.0       0.0  "
      ]
     },
     "execution_count": 2,
     "metadata": {},
     "output_type": "execute_result"
    }
   ],
   "source": [
    "beer_stock = pd.read_csv('beer_stock_may.csv')\n",
    "beer_stock.head()"
   ]
  },
  {
   "cell_type": "markdown",
   "metadata": {},
   "source": [
    " - `good_id` - код товара \n",
    " - `shop_id` - код магазина \n",
    " - `sup_stock` - стоимость запаса в закупочных ценах\n",
    " - `sale_sup` - стоимость проданного товара в закупочных ценах"
   ]
  },
  {
   "cell_type": "markdown",
   "metadata": {},
   "source": [
    "Загружаем справочник товаров"
   ]
  },
  {
   "cell_type": "code",
   "execution_count": 3,
   "metadata": {},
   "outputs": [
    {
     "data": {
      "text/html": [
       "<div>\n",
       "<style scoped>\n",
       "    .dataframe tbody tr th:only-of-type {\n",
       "        vertical-align: middle;\n",
       "    }\n",
       "\n",
       "    .dataframe tbody tr th {\n",
       "        vertical-align: top;\n",
       "    }\n",
       "\n",
       "    .dataframe thead th {\n",
       "        text-align: right;\n",
       "    }\n",
       "</style>\n",
       "<table border=\"1\" class=\"dataframe\">\n",
       "  <thead>\n",
       "    <tr style=\"text-align: right;\">\n",
       "      <th></th>\n",
       "      <th>good_id</th>\n",
       "      <th>product</th>\n",
       "      <th>subgroup</th>\n",
       "      <th>group</th>\n",
       "      <th>department</th>\n",
       "    </tr>\n",
       "  </thead>\n",
       "  <tbody>\n",
       "    <tr>\n",
       "      <th>0</th>\n",
       "      <td>8090100001</td>\n",
       "      <td>ЗОЛОТАЯ БОЧКА св.пиво0.5L</td>\n",
       "      <td>Пиво отечествен.емк.0,5л и менее</td>\n",
       "      <td>Пиво</td>\n",
       "      <td>Пиво</td>\n",
       "    </tr>\n",
       "    <tr>\n",
       "      <th>1</th>\n",
       "      <td>8090100002</td>\n",
       "      <td>ЗОЛ.БОЧ.классика пиво0.5L</td>\n",
       "      <td>Пиво отечествен.емк.0,5л и менее</td>\n",
       "      <td>Пиво</td>\n",
       "      <td>Пиво</td>\n",
       "    </tr>\n",
       "    <tr>\n",
       "      <th>2</th>\n",
       "      <td>8090100003</td>\n",
       "      <td>ЗОЛОТАЯ БОЧКАвыд.пиво0.5L</td>\n",
       "      <td>Пиво отечествен.емк.0,5л и менее</td>\n",
       "      <td>Пиво</td>\n",
       "      <td>Пиво</td>\n",
       "    </tr>\n",
       "    <tr>\n",
       "      <th>3</th>\n",
       "      <td>8090100004</td>\n",
       "      <td>STAROPRAMEN      пиво0.5L</td>\n",
       "      <td>Пиво отечествен.емк.0,5л и менее</td>\n",
       "      <td>Пиво</td>\n",
       "      <td>Пиво</td>\n",
       "    </tr>\n",
       "    <tr>\n",
       "      <th>4</th>\n",
       "      <td>8090100005</td>\n",
       "      <td>HOLSTEN Калуга св.пив0.5L</td>\n",
       "      <td>Пиво отечествен.емк.0,5л и менее</td>\n",
       "      <td>Пиво</td>\n",
       "      <td>Пиво</td>\n",
       "    </tr>\n",
       "  </tbody>\n",
       "</table>\n",
       "</div>"
      ],
      "text/plain": [
       "      good_id                    product                          subgroup  \\\n",
       "0  8090100001  ЗОЛОТАЯ БОЧКА св.пиво0.5L  Пиво отечествен.емк.0,5л и менее   \n",
       "1  8090100002  ЗОЛ.БОЧ.классика пиво0.5L  Пиво отечествен.емк.0,5л и менее   \n",
       "2  8090100003  ЗОЛОТАЯ БОЧКАвыд.пиво0.5L  Пиво отечествен.емк.0,5л и менее   \n",
       "3  8090100004  STAROPRAMEN      пиво0.5L  Пиво отечествен.емк.0,5л и менее   \n",
       "4  8090100005  HOLSTEN Калуга св.пив0.5L  Пиво отечествен.емк.0,5л и менее   \n",
       "\n",
       "  group department  \n",
       "0  Пиво       Пиво  \n",
       "1  Пиво       Пиво  \n",
       "2  Пиво       Пиво  \n",
       "3  Пиво       Пиво  \n",
       "4  Пиво       Пиво  "
      ]
     },
     "execution_count": 3,
     "metadata": {},
     "output_type": "execute_result"
    }
   ],
   "source": [
    "products = pd.read_csv('beer_metadata.csv')\n",
    "products.head()"
   ]
  },
  {
   "cell_type": "markdown",
   "metadata": {},
   "source": [
    "Добавляем описание товара в таблицу с запасами"
   ]
  },
  {
   "cell_type": "code",
   "execution_count": 4,
   "metadata": {},
   "outputs": [
    {
     "data": {
      "text/html": [
       "<div>\n",
       "<style scoped>\n",
       "    .dataframe tbody tr th:only-of-type {\n",
       "        vertical-align: middle;\n",
       "    }\n",
       "\n",
       "    .dataframe tbody tr th {\n",
       "        vertical-align: top;\n",
       "    }\n",
       "\n",
       "    .dataframe thead th {\n",
       "        text-align: right;\n",
       "    }\n",
       "</style>\n",
       "<table border=\"1\" class=\"dataframe\">\n",
       "  <thead>\n",
       "    <tr style=\"text-align: right;\">\n",
       "      <th></th>\n",
       "      <th>date</th>\n",
       "      <th>good_id</th>\n",
       "      <th>shop_id</th>\n",
       "      <th>supplier_id</th>\n",
       "      <th>quantity</th>\n",
       "      <th>avg_price</th>\n",
       "      <th>sup_stock</th>\n",
       "      <th>sale_price</th>\n",
       "      <th>sale_quantity</th>\n",
       "      <th>sale_amount</th>\n",
       "      <th>sale_sup</th>\n",
       "      <th>product</th>\n",
       "      <th>subgroup</th>\n",
       "      <th>group</th>\n",
       "      <th>department</th>\n",
       "    </tr>\n",
       "  </thead>\n",
       "  <tbody>\n",
       "    <tr>\n",
       "      <th>0</th>\n",
       "      <td>2004-05-01</td>\n",
       "      <td>8090100003</td>\n",
       "      <td>100</td>\n",
       "      <td>1019</td>\n",
       "      <td>61</td>\n",
       "      <td>13.3</td>\n",
       "      <td>811.3</td>\n",
       "      <td>17.96</td>\n",
       "      <td>0</td>\n",
       "      <td>0.0</td>\n",
       "      <td>0.0</td>\n",
       "      <td>ЗОЛОТАЯ БОЧКАвыд.пиво0.5L</td>\n",
       "      <td>Пиво отечествен.емк.0,5л и менее</td>\n",
       "      <td>Пиво</td>\n",
       "      <td>Пиво</td>\n",
       "    </tr>\n",
       "    <tr>\n",
       "      <th>1</th>\n",
       "      <td>2004-05-02</td>\n",
       "      <td>8090100003</td>\n",
       "      <td>100</td>\n",
       "      <td>1019</td>\n",
       "      <td>61</td>\n",
       "      <td>13.3</td>\n",
       "      <td>811.3</td>\n",
       "      <td>17.96</td>\n",
       "      <td>0</td>\n",
       "      <td>0.0</td>\n",
       "      <td>0.0</td>\n",
       "      <td>ЗОЛОТАЯ БОЧКАвыд.пиво0.5L</td>\n",
       "      <td>Пиво отечествен.емк.0,5л и менее</td>\n",
       "      <td>Пиво</td>\n",
       "      <td>Пиво</td>\n",
       "    </tr>\n",
       "    <tr>\n",
       "      <th>2</th>\n",
       "      <td>2004-05-03</td>\n",
       "      <td>8090100003</td>\n",
       "      <td>100</td>\n",
       "      <td>1019</td>\n",
       "      <td>61</td>\n",
       "      <td>13.3</td>\n",
       "      <td>811.3</td>\n",
       "      <td>17.96</td>\n",
       "      <td>0</td>\n",
       "      <td>0.0</td>\n",
       "      <td>0.0</td>\n",
       "      <td>ЗОЛОТАЯ БОЧКАвыд.пиво0.5L</td>\n",
       "      <td>Пиво отечествен.емк.0,5л и менее</td>\n",
       "      <td>Пиво</td>\n",
       "      <td>Пиво</td>\n",
       "    </tr>\n",
       "    <tr>\n",
       "      <th>3</th>\n",
       "      <td>2004-05-04</td>\n",
       "      <td>8090100003</td>\n",
       "      <td>100</td>\n",
       "      <td>1019</td>\n",
       "      <td>61</td>\n",
       "      <td>13.3</td>\n",
       "      <td>811.3</td>\n",
       "      <td>17.96</td>\n",
       "      <td>0</td>\n",
       "      <td>0.0</td>\n",
       "      <td>0.0</td>\n",
       "      <td>ЗОЛОТАЯ БОЧКАвыд.пиво0.5L</td>\n",
       "      <td>Пиво отечествен.емк.0,5л и менее</td>\n",
       "      <td>Пиво</td>\n",
       "      <td>Пиво</td>\n",
       "    </tr>\n",
       "    <tr>\n",
       "      <th>4</th>\n",
       "      <td>2004-05-05</td>\n",
       "      <td>8090100003</td>\n",
       "      <td>100</td>\n",
       "      <td>1019</td>\n",
       "      <td>61</td>\n",
       "      <td>13.3</td>\n",
       "      <td>811.3</td>\n",
       "      <td>17.96</td>\n",
       "      <td>0</td>\n",
       "      <td>0.0</td>\n",
       "      <td>0.0</td>\n",
       "      <td>ЗОЛОТАЯ БОЧКАвыд.пиво0.5L</td>\n",
       "      <td>Пиво отечествен.емк.0,5л и менее</td>\n",
       "      <td>Пиво</td>\n",
       "      <td>Пиво</td>\n",
       "    </tr>\n",
       "  </tbody>\n",
       "</table>\n",
       "</div>"
      ],
      "text/plain": [
       "        date     good_id  shop_id  supplier_id  quantity  avg_price  \\\n",
       "0 2004-05-01  8090100003      100         1019        61       13.3   \n",
       "1 2004-05-02  8090100003      100         1019        61       13.3   \n",
       "2 2004-05-03  8090100003      100         1019        61       13.3   \n",
       "3 2004-05-04  8090100003      100         1019        61       13.3   \n",
       "4 2004-05-05  8090100003      100         1019        61       13.3   \n",
       "\n",
       "   sup_stock  sale_price  sale_quantity  sale_amount  sale_sup  \\\n",
       "0      811.3       17.96              0          0.0       0.0   \n",
       "1      811.3       17.96              0          0.0       0.0   \n",
       "2      811.3       17.96              0          0.0       0.0   \n",
       "3      811.3       17.96              0          0.0       0.0   \n",
       "4      811.3       17.96              0          0.0       0.0   \n",
       "\n",
       "                     product                          subgroup group  \\\n",
       "0  ЗОЛОТАЯ БОЧКАвыд.пиво0.5L  Пиво отечествен.емк.0,5л и менее  Пиво   \n",
       "1  ЗОЛОТАЯ БОЧКАвыд.пиво0.5L  Пиво отечествен.емк.0,5л и менее  Пиво   \n",
       "2  ЗОЛОТАЯ БОЧКАвыд.пиво0.5L  Пиво отечествен.емк.0,5л и менее  Пиво   \n",
       "3  ЗОЛОТАЯ БОЧКАвыд.пиво0.5L  Пиво отечествен.емк.0,5л и менее  Пиво   \n",
       "4  ЗОЛОТАЯ БОЧКАвыд.пиво0.5L  Пиво отечествен.емк.0,5л и менее  Пиво   \n",
       "\n",
       "  department  \n",
       "0       Пиво  \n",
       "1       Пиво  \n",
       "2       Пиво  \n",
       "3       Пиво  \n",
       "4       Пиво  "
      ]
     },
     "execution_count": 4,
     "metadata": {},
     "output_type": "execute_result"
    }
   ],
   "source": [
    "beer_stock = pd.merge(beer_stock, products, how='inner',\n",
    "                     left_on = 'good_id', right_on='good_id')\n",
    "beer_stock['date'] = pd.to_datetime(beer_stock['date']) # Преобразуем даты из текста\n",
    "beer_stock.head()"
   ]
  },
  {
   "cell_type": "markdown",
   "metadata": {},
   "source": [
    "## Top 10 наиболее оборачиваемых товаров"
   ]
  },
  {
   "cell_type": "markdown",
   "metadata": {},
   "source": [
    "Агрегируем данные об остатках и продажах: считаем среднее для остатка и сумму для продаж. Все - в закупочных ценах."
   ]
  },
  {
   "cell_type": "code",
   "execution_count": 5,
   "metadata": {},
   "outputs": [
    {
     "data": {
      "text/html": [
       "<div>\n",
       "<style scoped>\n",
       "    .dataframe tbody tr th:only-of-type {\n",
       "        vertical-align: middle;\n",
       "    }\n",
       "\n",
       "    .dataframe tbody tr th {\n",
       "        vertical-align: top;\n",
       "    }\n",
       "\n",
       "    .dataframe thead th {\n",
       "        text-align: right;\n",
       "    }\n",
       "</style>\n",
       "<table border=\"1\" class=\"dataframe\">\n",
       "  <thead>\n",
       "    <tr style=\"text-align: right;\">\n",
       "      <th></th>\n",
       "      <th>sup_stock</th>\n",
       "      <th>sale_sup</th>\n",
       "    </tr>\n",
       "    <tr>\n",
       "      <th>product</th>\n",
       "      <th></th>\n",
       "      <th></th>\n",
       "    </tr>\n",
       "  </thead>\n",
       "  <tbody>\n",
       "    <tr>\n",
       "      <th>ALTSTEIN         пиво0.5L</th>\n",
       "      <td>626.126667</td>\n",
       "      <td>261.01</td>\n",
       "    </tr>\n",
       "    <tr>\n",
       "      <th>ALTSTEIN  банка  пиво0.5L</th>\n",
       "      <td>255.758387</td>\n",
       "      <td>127.95</td>\n",
       "    </tr>\n",
       "    <tr>\n",
       "      <th>AMSTEL светлое  пиво0.33L</th>\n",
       "      <td>651.500645</td>\n",
       "      <td>169.58</td>\n",
       "    </tr>\n",
       "    <tr>\n",
       "      <th>BAVARIA          пиво0.5L</th>\n",
       "      <td>605.594839</td>\n",
       "      <td>276.08</td>\n",
       "    </tr>\n",
       "    <tr>\n",
       "      <th>BAVARIA         пиво0.33L</th>\n",
       "      <td>763.525806</td>\n",
       "      <td>351.40</td>\n",
       "    </tr>\n",
       "  </tbody>\n",
       "</table>\n",
       "</div>"
      ],
      "text/plain": [
       "                            sup_stock  sale_sup\n",
       "product                                        \n",
       "ALTSTEIN         пиво0.5L  626.126667    261.01\n",
       "ALTSTEIN  банка  пиво0.5L  255.758387    127.95\n",
       "AMSTEL светлое  пиво0.33L  651.500645    169.58\n",
       "BAVARIA          пиво0.5L  605.594839    276.08\n",
       "BAVARIA         пиво0.33L  763.525806    351.40"
      ]
     },
     "execution_count": 5,
     "metadata": {},
     "output_type": "execute_result"
    }
   ],
   "source": [
    "turnover_data = beer_stock.groupby('product').agg({'sup_stock' : 'mean', 'sale_sup' : 'sum'})\n",
    "turnover_data.head()"
   ]
  },
  {
   "cell_type": "markdown",
   "metadata": {},
   "source": [
    "Считаем оборачиваемость:\n",
    "\n",
    "$$ Оборачиваемость = \\frac{Оборот}{\\text{Средняя стоимость запаса}} $$"
   ]
  },
  {
   "cell_type": "code",
   "execution_count": 6,
   "metadata": {},
   "outputs": [
    {
     "data": {
      "text/html": [
       "<div>\n",
       "<style scoped>\n",
       "    .dataframe tbody tr th:only-of-type {\n",
       "        vertical-align: middle;\n",
       "    }\n",
       "\n",
       "    .dataframe tbody tr th {\n",
       "        vertical-align: top;\n",
       "    }\n",
       "\n",
       "    .dataframe thead th {\n",
       "        text-align: right;\n",
       "    }\n",
       "</style>\n",
       "<table border=\"1\" class=\"dataframe\">\n",
       "  <thead>\n",
       "    <tr style=\"text-align: right;\">\n",
       "      <th></th>\n",
       "      <th>sup_stock</th>\n",
       "      <th>sale_sup</th>\n",
       "      <th>turns</th>\n",
       "    </tr>\n",
       "    <tr>\n",
       "      <th>product</th>\n",
       "      <th></th>\n",
       "      <th></th>\n",
       "      <th></th>\n",
       "    </tr>\n",
       "  </thead>\n",
       "  <tbody>\n",
       "    <tr>\n",
       "      <th>ALTSTEIN         пиво0.5L</th>\n",
       "      <td>626.126667</td>\n",
       "      <td>261.01</td>\n",
       "      <td>0.416865</td>\n",
       "    </tr>\n",
       "    <tr>\n",
       "      <th>ALTSTEIN  банка  пиво0.5L</th>\n",
       "      <td>255.758387</td>\n",
       "      <td>127.95</td>\n",
       "      <td>0.500277</td>\n",
       "    </tr>\n",
       "    <tr>\n",
       "      <th>AMSTEL светлое  пиво0.33L</th>\n",
       "      <td>651.500645</td>\n",
       "      <td>169.58</td>\n",
       "      <td>0.260291</td>\n",
       "    </tr>\n",
       "    <tr>\n",
       "      <th>BAVARIA          пиво0.5L</th>\n",
       "      <td>605.594839</td>\n",
       "      <td>276.08</td>\n",
       "      <td>0.455882</td>\n",
       "    </tr>\n",
       "    <tr>\n",
       "      <th>BAVARIA         пиво0.33L</th>\n",
       "      <td>763.525806</td>\n",
       "      <td>351.40</td>\n",
       "      <td>0.460233</td>\n",
       "    </tr>\n",
       "  </tbody>\n",
       "</table>\n",
       "</div>"
      ],
      "text/plain": [
       "                            sup_stock  sale_sup     turns\n",
       "product                                                  \n",
       "ALTSTEIN         пиво0.5L  626.126667    261.01  0.416865\n",
       "ALTSTEIN  банка  пиво0.5L  255.758387    127.95  0.500277\n",
       "AMSTEL светлое  пиво0.33L  651.500645    169.58  0.260291\n",
       "BAVARIA          пиво0.5L  605.594839    276.08  0.455882\n",
       "BAVARIA         пиво0.33L  763.525806    351.40  0.460233"
      ]
     },
     "execution_count": 6,
     "metadata": {},
     "output_type": "execute_result"
    }
   ],
   "source": [
    "turnover_data['turns'] = turnover_data['sale_sup'] /  turnover_data['sup_stock']\n",
    "turnover_data.head()"
   ]
  },
  {
   "cell_type": "markdown",
   "metadata": {},
   "source": [
    "Выбираем 10 наиболее оборачиваемых товаров"
   ]
  },
  {
   "cell_type": "code",
   "execution_count": 7,
   "metadata": {},
   "outputs": [
    {
     "data": {
      "text/plain": [
       "product\n",
       "ЯРПИВО янтар.ж/б пиво0.5L    12.590466\n",
       "СТ.МЕЛЬН.св. ж/б пиво0.5L    11.333258\n",
       "БАЛТИКА7 экс.ж/б пиво0.5L     8.632694\n",
       "КЛИНСКОЕ аррива  пиво0.5L     7.829681\n",
       "БАЛТИКА3 классич.пиво0.5L     7.111812\n",
       "БАЛТИКА0 б/а ж/б пиво0.5L     6.533333\n",
       "БАЛТИКА8 пшен.бут.пив0.5L     6.185517\n",
       "LOWENBRAU оригин.пиво0.5L     6.065542\n",
       "СТ.МЕЛЬН.св.бут. пиво0.5L     5.951995\n",
       "CARLSBERG св.бут.пиво0.5L     5.857252\n",
       "Name: turns, dtype: float64"
      ]
     },
     "execution_count": 7,
     "metadata": {},
     "output_type": "execute_result"
    }
   ],
   "source": [
    "top10 = turnover_data['turns'].nlargest(10)\n",
    "top10"
   ]
  },
  {
   "cell_type": "markdown",
   "metadata": {},
   "source": [
    "Визуализация результатов"
   ]
  },
  {
   "cell_type": "code",
   "execution_count": 8,
   "metadata": {},
   "outputs": [
    {
     "data": {
      "image/png": "[encoded data removed]",
      "text/plain": [
       "<Figure size 1008x432 with 1 Axes>"
      ]
     },
     "metadata": {
      "needs_background": "light"
     },
     "output_type": "display_data"
    }
   ],
   "source": [
    "plt.figure(figsize=(14,6)) # Размер рисунка\n",
    "top10.plot(kind='barh') # Строим график\n",
    "\n",
    "plt.title('Лучшие 10 товаров по оборачиваемости')\n",
    "plt.xlabel('Оборачиваемость, раз за месяц')\n",
    "plt.ylabel(None)\n",
    "\n",
    "plt.show()"
   ]
  },
  {
   "cell_type": "markdown",
   "metadata": {},
   "source": [
    "## Стоимость запасов в сети в разрезе товарных подкатегорий"
   ]
  },
  {
   "cell_type": "code",
   "execution_count": 9,
   "metadata": {},
   "outputs": [
    {
     "data": {
      "image/png": "[encoded data removed]",
      "text/plain": [
       "<Figure size 1008x504 with 1 Axes>"
      ]
     },
     "metadata": {
      "needs_background": "light"
     },
     "output_type": "display_data"
    }
   ],
   "source": [
    "plt.figure(figsize=(14,7)) # Размер рисунка\n",
    "\n",
    "for subgroup, stock in beer_stock.groupby('subgroup'): # для каждой подгруппы добавляем линию на график\n",
    "    stock_amount = stock.groupby('date')['sup_stock'].sum() # суммарный остаток на каждую дату\n",
    "    plt.plot(stock_amount,\n",
    "           label=subgroup)\n",
    "    \n",
    "plt.legend(loc='upper left')\n",
    "plt.title('Стоимость товарного запаса в сети в закупочных ценах (руб)')\n",
    "plt.show()"
   ]
  },
  {
   "cell_type": "markdown",
   "metadata": {},
   "source": [
    "## Трафик покупателей по часам и дням недели"
   ]
  },
  {
   "cell_type": "markdown",
   "metadata": {},
   "source": [
    "Загружаем данные по продажам (строки чеков)"
   ]
  },
  {
   "cell_type": "code",
   "execution_count": 10,
   "metadata": {},
   "outputs": [
    {
     "data": {
      "text/html": [
       "<div>\n",
       "<style scoped>\n",
       "    .dataframe tbody tr th:only-of-type {\n",
       "        vertical-align: middle;\n",
       "    }\n",
       "\n",
       "    .dataframe tbody tr th {\n",
       "        vertical-align: top;\n",
       "    }\n",
       "\n",
       "    .dataframe thead th {\n",
       "        text-align: right;\n",
       "    }\n",
       "</style>\n",
       "<table border=\"1\" class=\"dataframe\">\n",
       "  <thead>\n",
       "    <tr style=\"text-align: right;\">\n",
       "      <th></th>\n",
       "      <th>check_id</th>\n",
       "      <th>time</th>\n",
       "      <th>good_id</th>\n",
       "      <th>shop_id</th>\n",
       "      <th>quantity</th>\n",
       "      <th>sale_price</th>\n",
       "      <th>cost_price</th>\n",
       "      <th>amount</th>\n",
       "      <th>discount</th>\n",
       "    </tr>\n",
       "  </thead>\n",
       "  <tbody>\n",
       "    <tr>\n",
       "      <th>0</th>\n",
       "      <td>89922</td>\n",
       "      <td>2004-05-02 20:13:00</td>\n",
       "      <td>8090100162</td>\n",
       "      <td>100</td>\n",
       "      <td>1</td>\n",
       "      <td>17.69</td>\n",
       "      <td>13.313</td>\n",
       "      <td>17.69</td>\n",
       "      <td>0.00</td>\n",
       "    </tr>\n",
       "    <tr>\n",
       "      <th>1</th>\n",
       "      <td>89922</td>\n",
       "      <td>2004-05-02 20:13:00</td>\n",
       "      <td>8090100162</td>\n",
       "      <td>100</td>\n",
       "      <td>1</td>\n",
       "      <td>17.69</td>\n",
       "      <td>13.313</td>\n",
       "      <td>17.69</td>\n",
       "      <td>0.00</td>\n",
       "    </tr>\n",
       "    <tr>\n",
       "      <th>2</th>\n",
       "      <td>89922</td>\n",
       "      <td>2004-05-02 20:13:00</td>\n",
       "      <td>8090100162</td>\n",
       "      <td>100</td>\n",
       "      <td>1</td>\n",
       "      <td>17.69</td>\n",
       "      <td>13.313</td>\n",
       "      <td>17.69</td>\n",
       "      <td>0.00</td>\n",
       "    </tr>\n",
       "    <tr>\n",
       "      <th>3</th>\n",
       "      <td>105139</td>\n",
       "      <td>2004-05-03 17:12:00</td>\n",
       "      <td>8090100162</td>\n",
       "      <td>100</td>\n",
       "      <td>1</td>\n",
       "      <td>18.50</td>\n",
       "      <td>13.983</td>\n",
       "      <td>18.50</td>\n",
       "      <td>0.00</td>\n",
       "    </tr>\n",
       "    <tr>\n",
       "      <th>4</th>\n",
       "      <td>97347</td>\n",
       "      <td>2004-05-03 21:28:00</td>\n",
       "      <td>8090100162</td>\n",
       "      <td>100</td>\n",
       "      <td>1</td>\n",
       "      <td>18.50</td>\n",
       "      <td>13.983</td>\n",
       "      <td>17.94</td>\n",
       "      <td>0.56</td>\n",
       "    </tr>\n",
       "  </tbody>\n",
       "</table>\n",
       "</div>"
      ],
      "text/plain": [
       "   check_id                time     good_id  shop_id  quantity  sale_price  \\\n",
       "0     89922 2004-05-02 20:13:00  8090100162      100         1       17.69   \n",
       "1     89922 2004-05-02 20:13:00  8090100162      100         1       17.69   \n",
       "2     89922 2004-05-02 20:13:00  8090100162      100         1       17.69   \n",
       "3    105139 2004-05-03 17:12:00  8090100162      100         1       18.50   \n",
       "4     97347 2004-05-03 21:28:00  8090100162      100         1       18.50   \n",
       "\n",
       "   cost_price  amount  discount  \n",
       "0      13.313   17.69      0.00  \n",
       "1      13.313   17.69      0.00  \n",
       "2      13.313   17.69      0.00  \n",
       "3      13.983   18.50      0.00  \n",
       "4      13.983   17.94      0.56  "
      ]
     },
     "execution_count": 10,
     "metadata": {},
     "output_type": "execute_result"
    }
   ],
   "source": [
    "beer_sales = pd.read_csv('beer_cheques_may.csv')\n",
    "beer_sales['time'] = pd.to_datetime(beer_sales['time']) # Преобразуем отметку времени из текста\n",
    "beer_sales.head()"
   ]
  },
  {
   "cell_type": "markdown",
   "metadata": {},
   "source": [
    "Построим тепловую карту количества посетителей для каждого магазина отдельно.   \n",
    "Чтобы не повторять код, напишем функцию для построения графика для выбранного магазина"
   ]
  },
  {
   "cell_type": "code",
   "execution_count": 11,
   "metadata": {},
   "outputs": [],
   "source": [
    "def plot_shop_load(shop_id, data):\n",
    "    \"\"\"\n",
    "    Выводит тепловую карту с количеством посетителей для заданного магазина.\n",
    "    shop_id - код магазина\n",
    "    data - строки чеков для всех магазинов\n",
    "    \"\"\"\n",
    "    \n",
    "    weekdays = ['Пн', 'Вт', 'Ср', 'Чт', 'Пт', 'Сб', 'Вс']\n",
    "    \n",
    "    shop_data = data[data['shop_id'] == shop_id].copy() # Отбираем данные для заданного магазина\n",
    "    \n",
    "    shop_data['hour'] = shop_data['time'].dt.hour # выделяем час\n",
    "    shop_data['dayofweek'] = shop_data['time'].dt.dayofweek # выделяем день недели \n",
    "    \n",
    "    # Считаем число уникальных чеков (посетителей):\n",
    "    num_visitors = shop_data.groupby(['dayofweek', 'hour'])['check_id'].count().unstack()\n",
    "    \n",
    "    # Визуализируем\n",
    "    plt.figure(figsize=(14, 5))     \n",
    "    sns.heatmap(num_visitors, yticklabels=weekdays)\n",
    "    plt.xlabel('Час')\n",
    "    plt.ylabel(None)\n",
    "    plt.title(f'Количество посетителей, купивших пиво в магазине {shop_id}')\n",
    "    plt.show()    "
   ]
  },
  {
   "cell_type": "markdown",
   "metadata": {},
   "source": [
    "Пробуем функцию на одном магазине:"
   ]
  },
  {
   "cell_type": "code",
   "execution_count": 12,
   "metadata": {},
   "outputs": [
    {
     "data": {
      "image/png": "[encoded data removed]",
      "text/plain": [
       "<Figure size 1008x360 with 2 Axes>"
      ]
     },
     "metadata": {
      "needs_background": "light"
     },
     "output_type": "display_data"
    }
   ],
   "source": [
    "plot_shop_load(100, beer_sales)"
   ]
  },
  {
   "cell_type": "markdown",
   "metadata": {},
   "source": [
    "Применяем функцию ко всем магазинам"
   ]
  },
  {
   "cell_type": "code",
   "execution_count": 13,
   "metadata": {},
   "outputs": [
    {
     "data": {
      "image/png": "[encoded data removed]",
      "text/plain": [
       "<Figure size 1008x360 with 2 Axes>"
      ]
     },
     "metadata": {
      "needs_background": "light"
     },
     "output_type": "display_data"
    },
    {
     "data": {
      "image/png": "[encoded data removed]",
      "text/plain": [
       "<Figure size 1008x360 with 2 Axes>"
      ]
     },
     "metadata": {
      "needs_background": "light"
     },
     "output_type": "display_data"
    }
   ],
   "source": [
    "for shop in beer_sales['shop_id'].unique():\n",
    "    plot_shop_load(shop, beer_sales)"
   ]
  }
 ],
 "metadata": {
  "kernelspec": {
   "display_name": "Python 3",
   "language": "python",
   "name": "python3"
  },
  "language_info": {
   "codemirror_mode": {
    "name": "ipython",
    "version": 3
   },
   "file_extension": ".py",
   "mimetype": "text/x-python",
   "name": "python",
   "nbconvert_exporter": "python",
   "pygments_lexer": "ipython3",
   "version": "3.8.3"
  }
 },
 "nbformat": 4,
 "nbformat_minor": 4
}
